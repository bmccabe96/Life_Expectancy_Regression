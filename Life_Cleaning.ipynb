{
 "cells": [
  {
   "cell_type": "code",
   "execution_count": 1,
   "metadata": {},
   "outputs": [],
   "source": [
    "import pandas as pd\n",
    "import numpy as np\n",
    "import matplotlib.pyplot as plt\n",
    "import seaborn as sns\n",
    "%matplotlib inline\n",
    "\n",
    "pd.set_option('display.max_columns', 300)"
   ]
  },
  {
   "cell_type": "code",
   "execution_count": 2,
   "metadata": {},
   "outputs": [],
   "source": [
    "df = pd.read_csv(\"Life Expectancy Data.csv\")"
   ]
  },
  {
   "cell_type": "code",
   "execution_count": 3,
   "metadata": {},
   "outputs": [
    {
     "data": {
      "text/html": [
       "<div>\n",
       "<style scoped>\n",
       "    .dataframe tbody tr th:only-of-type {\n",
       "        vertical-align: middle;\n",
       "    }\n",
       "\n",
       "    .dataframe tbody tr th {\n",
       "        vertical-align: top;\n",
       "    }\n",
       "\n",
       "    .dataframe thead th {\n",
       "        text-align: right;\n",
       "    }\n",
       "</style>\n",
       "<table border=\"1\" class=\"dataframe\">\n",
       "  <thead>\n",
       "    <tr style=\"text-align: right;\">\n",
       "      <th></th>\n",
       "      <th>Country</th>\n",
       "      <th>Year</th>\n",
       "      <th>Status</th>\n",
       "      <th>Life expectancy</th>\n",
       "      <th>Adult Mortality</th>\n",
       "      <th>infant deaths</th>\n",
       "      <th>Alcohol</th>\n",
       "      <th>percentage expenditure</th>\n",
       "      <th>Hepatitis B</th>\n",
       "      <th>Measles</th>\n",
       "      <th>BMI</th>\n",
       "      <th>under-five deaths</th>\n",
       "      <th>Polio</th>\n",
       "      <th>Total expenditure</th>\n",
       "      <th>Diphtheria</th>\n",
       "      <th>HIV/AIDS</th>\n",
       "      <th>GDP</th>\n",
       "      <th>Population</th>\n",
       "      <th>thinness  1-19 years</th>\n",
       "      <th>thinness 5-9 years</th>\n",
       "      <th>Income composition of resources</th>\n",
       "      <th>Schooling</th>\n",
       "    </tr>\n",
       "  </thead>\n",
       "  <tbody>\n",
       "    <tr>\n",
       "      <th>0</th>\n",
       "      <td>Afghanistan</td>\n",
       "      <td>2015</td>\n",
       "      <td>Developing</td>\n",
       "      <td>65.0</td>\n",
       "      <td>263.0</td>\n",
       "      <td>62</td>\n",
       "      <td>0.01</td>\n",
       "      <td>71.279624</td>\n",
       "      <td>65.0</td>\n",
       "      <td>1154</td>\n",
       "      <td>19.1</td>\n",
       "      <td>83</td>\n",
       "      <td>6.0</td>\n",
       "      <td>8.16</td>\n",
       "      <td>65.0</td>\n",
       "      <td>0.1</td>\n",
       "      <td>584.259210</td>\n",
       "      <td>33736494.0</td>\n",
       "      <td>17.2</td>\n",
       "      <td>17.3</td>\n",
       "      <td>0.479</td>\n",
       "      <td>10.1</td>\n",
       "    </tr>\n",
       "    <tr>\n",
       "      <th>1</th>\n",
       "      <td>Afghanistan</td>\n",
       "      <td>2014</td>\n",
       "      <td>Developing</td>\n",
       "      <td>59.9</td>\n",
       "      <td>271.0</td>\n",
       "      <td>64</td>\n",
       "      <td>0.01</td>\n",
       "      <td>73.523582</td>\n",
       "      <td>62.0</td>\n",
       "      <td>492</td>\n",
       "      <td>18.6</td>\n",
       "      <td>86</td>\n",
       "      <td>58.0</td>\n",
       "      <td>8.18</td>\n",
       "      <td>62.0</td>\n",
       "      <td>0.1</td>\n",
       "      <td>612.696514</td>\n",
       "      <td>327582.0</td>\n",
       "      <td>17.5</td>\n",
       "      <td>17.5</td>\n",
       "      <td>0.476</td>\n",
       "      <td>10.0</td>\n",
       "    </tr>\n",
       "    <tr>\n",
       "      <th>2</th>\n",
       "      <td>Afghanistan</td>\n",
       "      <td>2013</td>\n",
       "      <td>Developing</td>\n",
       "      <td>59.9</td>\n",
       "      <td>268.0</td>\n",
       "      <td>66</td>\n",
       "      <td>0.01</td>\n",
       "      <td>73.219243</td>\n",
       "      <td>64.0</td>\n",
       "      <td>430</td>\n",
       "      <td>18.1</td>\n",
       "      <td>89</td>\n",
       "      <td>62.0</td>\n",
       "      <td>8.13</td>\n",
       "      <td>64.0</td>\n",
       "      <td>0.1</td>\n",
       "      <td>631.744976</td>\n",
       "      <td>31731688.0</td>\n",
       "      <td>17.7</td>\n",
       "      <td>17.7</td>\n",
       "      <td>0.470</td>\n",
       "      <td>9.9</td>\n",
       "    </tr>\n",
       "    <tr>\n",
       "      <th>3</th>\n",
       "      <td>Afghanistan</td>\n",
       "      <td>2012</td>\n",
       "      <td>Developing</td>\n",
       "      <td>59.5</td>\n",
       "      <td>272.0</td>\n",
       "      <td>69</td>\n",
       "      <td>0.01</td>\n",
       "      <td>78.184215</td>\n",
       "      <td>67.0</td>\n",
       "      <td>2787</td>\n",
       "      <td>17.6</td>\n",
       "      <td>93</td>\n",
       "      <td>67.0</td>\n",
       "      <td>8.52</td>\n",
       "      <td>67.0</td>\n",
       "      <td>0.1</td>\n",
       "      <td>669.959000</td>\n",
       "      <td>3696958.0</td>\n",
       "      <td>17.9</td>\n",
       "      <td>18.0</td>\n",
       "      <td>0.463</td>\n",
       "      <td>9.8</td>\n",
       "    </tr>\n",
       "    <tr>\n",
       "      <th>4</th>\n",
       "      <td>Afghanistan</td>\n",
       "      <td>2011</td>\n",
       "      <td>Developing</td>\n",
       "      <td>59.2</td>\n",
       "      <td>275.0</td>\n",
       "      <td>71</td>\n",
       "      <td>0.01</td>\n",
       "      <td>7.097109</td>\n",
       "      <td>68.0</td>\n",
       "      <td>3013</td>\n",
       "      <td>17.2</td>\n",
       "      <td>97</td>\n",
       "      <td>68.0</td>\n",
       "      <td>7.87</td>\n",
       "      <td>68.0</td>\n",
       "      <td>0.1</td>\n",
       "      <td>63.537231</td>\n",
       "      <td>2978599.0</td>\n",
       "      <td>18.2</td>\n",
       "      <td>18.2</td>\n",
       "      <td>0.454</td>\n",
       "      <td>9.5</td>\n",
       "    </tr>\n",
       "  </tbody>\n",
       "</table>\n",
       "</div>"
      ],
      "text/plain": [
       "       Country  Year      Status  Life expectancy   Adult Mortality  \\\n",
       "0  Afghanistan  2015  Developing              65.0            263.0   \n",
       "1  Afghanistan  2014  Developing              59.9            271.0   \n",
       "2  Afghanistan  2013  Developing              59.9            268.0   \n",
       "3  Afghanistan  2012  Developing              59.5            272.0   \n",
       "4  Afghanistan  2011  Developing              59.2            275.0   \n",
       "\n",
       "   infant deaths  Alcohol  percentage expenditure  Hepatitis B  Measles   \\\n",
       "0             62     0.01               71.279624         65.0      1154   \n",
       "1             64     0.01               73.523582         62.0       492   \n",
       "2             66     0.01               73.219243         64.0       430   \n",
       "3             69     0.01               78.184215         67.0      2787   \n",
       "4             71     0.01                7.097109         68.0      3013   \n",
       "\n",
       "    BMI   under-five deaths   Polio  Total expenditure  Diphtheria   \\\n",
       "0   19.1                  83    6.0               8.16         65.0   \n",
       "1   18.6                  86   58.0               8.18         62.0   \n",
       "2   18.1                  89   62.0               8.13         64.0   \n",
       "3   17.6                  93   67.0               8.52         67.0   \n",
       "4   17.2                  97   68.0               7.87         68.0   \n",
       "\n",
       "    HIV/AIDS         GDP  Population   thinness  1-19 years  \\\n",
       "0        0.1  584.259210  33736494.0                   17.2   \n",
       "1        0.1  612.696514    327582.0                   17.5   \n",
       "2        0.1  631.744976  31731688.0                   17.7   \n",
       "3        0.1  669.959000   3696958.0                   17.9   \n",
       "4        0.1   63.537231   2978599.0                   18.2   \n",
       "\n",
       "    thinness 5-9 years  Income composition of resources  Schooling  \n",
       "0                 17.3                            0.479       10.1  \n",
       "1                 17.5                            0.476       10.0  \n",
       "2                 17.7                            0.470        9.9  \n",
       "3                 18.0                            0.463        9.8  \n",
       "4                 18.2                            0.454        9.5  "
      ]
     },
     "execution_count": 3,
     "metadata": {},
     "output_type": "execute_result"
    }
   ],
   "source": [
    "df.head()"
   ]
  },
  {
   "cell_type": "markdown",
   "metadata": {},
   "source": [
    "Let's get some overall info on the dataset"
   ]
  },
  {
   "cell_type": "code",
   "execution_count": 4,
   "metadata": {
    "scrolled": true
   },
   "outputs": [
    {
     "name": "stdout",
     "output_type": "stream",
     "text": [
      "<class 'pandas.core.frame.DataFrame'>\n",
      "RangeIndex: 2938 entries, 0 to 2937\n",
      "Data columns (total 22 columns):\n",
      " #   Column                           Non-Null Count  Dtype  \n",
      "---  ------                           --------------  -----  \n",
      " 0   Country                          2938 non-null   object \n",
      " 1   Year                             2938 non-null   int64  \n",
      " 2   Status                           2938 non-null   object \n",
      " 3   Life expectancy                  2928 non-null   float64\n",
      " 4   Adult Mortality                  2928 non-null   float64\n",
      " 5   infant deaths                    2938 non-null   int64  \n",
      " 6   Alcohol                          2744 non-null   float64\n",
      " 7   percentage expenditure           2938 non-null   float64\n",
      " 8   Hepatitis B                      2385 non-null   float64\n",
      " 9   Measles                          2938 non-null   int64  \n",
      " 10   BMI                             2904 non-null   float64\n",
      " 11  under-five deaths                2938 non-null   int64  \n",
      " 12  Polio                            2919 non-null   float64\n",
      " 13  Total expenditure                2712 non-null   float64\n",
      " 14  Diphtheria                       2919 non-null   float64\n",
      " 15   HIV/AIDS                        2938 non-null   float64\n",
      " 16  GDP                              2490 non-null   float64\n",
      " 17  Population                       2286 non-null   float64\n",
      " 18   thinness  1-19 years            2904 non-null   float64\n",
      " 19   thinness 5-9 years              2904 non-null   float64\n",
      " 20  Income composition of resources  2771 non-null   float64\n",
      " 21  Schooling                        2775 non-null   float64\n",
      "dtypes: float64(16), int64(4), object(2)\n",
      "memory usage: 505.1+ KB\n"
     ]
    }
   ],
   "source": [
    "df.info()"
   ]
  },
  {
   "cell_type": "markdown",
   "metadata": {},
   "source": [
    "Columns have weird spacing. Let's fix that."
   ]
  },
  {
   "cell_type": "code",
   "execution_count": 5,
   "metadata": {},
   "outputs": [],
   "source": [
    "df.columns = df.columns.str.strip().str.replace(\" \",\"_\").str.lower()\n",
    "df.rename(columns={\"thinness__1-19_years\": \"thinness__10-19_years\"}, inplace=True)\n"
   ]
  },
  {
   "cell_type": "markdown",
   "metadata": {},
   "source": [
    "Looks like we have 20 quant and 2 cat features. Let's inspect the distribution of the quants below..."
   ]
  },
  {
   "cell_type": "code",
   "execution_count": 6,
   "metadata": {},
   "outputs": [
    {
     "data": {
      "image/png": "[encoded data removed]",
      "text/plain": [
       "<Figure size 1080x1080 with 20 Axes>"
      ]
     },
     "metadata": {
      "needs_background": "light"
     },
     "output_type": "display_data"
    }
   ],
   "source": [
    "df.hist(figsize=(15,15))\n",
    "plt.show()"
   ]
  },
  {
   "cell_type": "markdown",
   "metadata": {},
   "source": [
    "Let us see a heatmap to get a visual of the missing values"
   ]
  },
  {
   "cell_type": "code",
   "execution_count": 7,
   "metadata": {},
   "outputs": [
    {
     "data": {
      "text/plain": [
       "<matplotlib.axes._subplots.AxesSubplot at 0x11a561f40>"
      ]
     },
     "execution_count": 7,
     "metadata": {},
     "output_type": "execute_result"
    },
    {
     "data": {
      "image/png": "[encoded data removed]",
      "text/plain": [
       "<Figure size 432x288 with 2 Axes>"
      ]
     },
     "metadata": {
      "needs_background": "light"
     },
     "output_type": "display_data"
    }
   ],
   "source": [
    "sns.heatmap(pd.isnull(df))"
   ]
  },
  {
   "cell_type": "code",
   "execution_count": 8,
   "metadata": {
    "scrolled": false
   },
   "outputs": [
    {
     "data": {
      "text/plain": [
       "country                              0\n",
       "year                                 0\n",
       "status                               0\n",
       "life_expectancy                     10\n",
       "adult_mortality                     10\n",
       "infant_deaths                        0\n",
       "alcohol                            194\n",
       "percentage_expenditure               0\n",
       "hepatitis_b                        553\n",
       "measles                              0\n",
       "bmi                                 34\n",
       "under-five_deaths                    0\n",
       "polio                               19\n",
       "total_expenditure                  226\n",
       "diphtheria                          19\n",
       "hiv/aids                             0\n",
       "gdp                                448\n",
       "population                         652\n",
       "thinness__10-19_years               34\n",
       "thinness_5-9_years                  34\n",
       "income_composition_of_resources    167\n",
       "schooling                          163\n",
       "dtype: int64"
      ]
     },
     "execution_count": 8,
     "metadata": {},
     "output_type": "execute_result"
    }
   ],
   "source": [
    "df.isna().sum()"
   ]
  },
  {
   "cell_type": "markdown",
   "metadata": {},
   "source": [
    "### Deal with missing life expectancy\n",
    "\n",
    "Since we are going to predict life expectancy, let us drop those null values since we don't want to impute our dependent variable."
   ]
  },
  {
   "cell_type": "code",
   "execution_count": 9,
   "metadata": {},
   "outputs": [],
   "source": [
    "df.drop(df[df['life_expectancy'].isna()].index, inplace=True)"
   ]
  },
  {
   "cell_type": "markdown",
   "metadata": {},
   "source": [
    "### Deal with missing adult mortality\n",
    "\n",
    "Adult mortality is skewed to the right, so instead of replacing the nulls with the mean, it makes more sense to replace with the median. The below cell will impute the median into the missing values"
   ]
  },
  {
   "cell_type": "code",
   "execution_count": 10,
   "metadata": {},
   "outputs": [],
   "source": [
    "df['adult_mortality']=df['adult_mortality'].fillna(value=df['adult_mortality'].median())\n"
   ]
  },
  {
   "cell_type": "markdown",
   "metadata": {},
   "source": [
    "### Deal with missing Alcohol\n",
    "\n",
    "If we groupby country, we notice a very different value for the median alcohol consumption. Therefore, to impute missing acohol values, we will use the median by country."
   ]
  },
  {
   "cell_type": "code",
   "execution_count": 11,
   "metadata": {},
   "outputs": [],
   "source": [
    "country = df.groupby('country').median()['alcohol'].index\n",
    "alc_score = df.groupby('country').median()['alcohol']\n",
    "country_alc = list(zip(country, alc_score))\n",
    "country_alc_dict = dict()\n",
    "\n",
    "for item in country_alc:\n",
    "    country_alc_dict[item[0]] = item[1]\n",
    "    \n"
   ]
  },
  {
   "cell_type": "code",
   "execution_count": 12,
   "metadata": {},
   "outputs": [],
   "source": [
    "missing_alc_index = df[df.alcohol.isna()].country.map(country_alc_dict).index\n",
    "missing_alc_values = df[df.alcohol.isna()].country.map(country_alc_dict)\n",
    "df.loc[missing_alc_index, 'alcohol'] = missing_alc_values"
   ]
  },
  {
   "cell_type": "markdown",
   "metadata": {},
   "source": [
    "**South Sudan has zero values for alcohol across the board, so we will replace these with the median of developing**"
   ]
  },
  {
   "cell_type": "code",
   "execution_count": 13,
   "metadata": {},
   "outputs": [],
   "source": [
    "#developing_alc\n",
    "median_developing = df.groupby('status').median()['alcohol'][1]\n",
    "df.alcohol = np.where(df.alcohol.isna(), median_developing, df.alcohol)"
   ]
  },
  {
   "cell_type": "code",
   "execution_count": 14,
   "metadata": {
    "scrolled": true
   },
   "outputs": [
    {
     "data": {
      "text/plain": [
       "0"
      ]
     },
     "execution_count": 14,
     "metadata": {},
     "output_type": "execute_result"
    }
   ],
   "source": [
    "df.alcohol.isna().sum()"
   ]
  },
  {
   "cell_type": "markdown",
   "metadata": {},
   "source": [
    "### Deal with missing Hepatitis B\n",
    "\n",
    "We will impute values for hepatitis b in a similar manner to alcohol by using the countries median"
   ]
  },
  {
   "cell_type": "code",
   "execution_count": 15,
   "metadata": {},
   "outputs": [],
   "source": [
    "country = df.groupby('country').median()['hepatitis_b'].index\n",
    "hep_score = df.groupby('country').median()['hepatitis_b']\n",
    "country_hep = list(zip(country, hep_score))\n",
    "country_hep_dict = dict()\n",
    "\n",
    "for item in country_hep:\n",
    "    country_hep_dict[item[0]] = item[1]\n"
   ]
  },
  {
   "cell_type": "code",
   "execution_count": 16,
   "metadata": {},
   "outputs": [],
   "source": [
    "missing_hep_index = df[df.hepatitis_b.isna()].country.map(country_hep_dict).index\n",
    "missing_hep_values = df[df.hepatitis_b.isna()].country.map(country_hep_dict)\n",
    "df.loc[missing_hep_index, 'hepatitis_b'] = missing_hep_values"
   ]
  },
  {
   "cell_type": "code",
   "execution_count": 17,
   "metadata": {},
   "outputs": [
    {
     "data": {
      "text/plain": [
       "144"
      ]
     },
     "execution_count": 17,
     "metadata": {},
     "output_type": "execute_result"
    }
   ],
   "source": [
    "df.hepatitis_b.isna().sum()"
   ]
  },
  {
   "cell_type": "markdown",
   "metadata": {},
   "source": [
    "We are still missing data, which means some countries were missing all this feature. Let's replace the remaining by the median of developing vs developed countries"
   ]
  },
  {
   "cell_type": "code",
   "execution_count": 18,
   "metadata": {},
   "outputs": [
    {
     "data": {
      "text/plain": [
       "Developed     128\n",
       "Developing     16\n",
       "Name: status, dtype: int64"
      ]
     },
     "execution_count": 18,
     "metadata": {},
     "output_type": "execute_result"
    }
   ],
   "source": [
    "df[df.hepatitis_b.isna()].status.value_counts()"
   ]
  },
  {
   "cell_type": "code",
   "execution_count": 19,
   "metadata": {},
   "outputs": [
    {
     "data": {
      "text/plain": [
       "(95.0, 89.0)"
      ]
     },
     "execution_count": 19,
     "metadata": {},
     "output_type": "execute_result"
    }
   ],
   "source": [
    "developed = df.groupby('status').median()['hepatitis_b'][0]\n",
    "developing = df.groupby('status').median()['hepatitis_b'][1]\n",
    "developed, developing"
   ]
  },
  {
   "cell_type": "code",
   "execution_count": 20,
   "metadata": {},
   "outputs": [],
   "source": [
    "df.loc[df[(df.hepatitis_b.isna()) & (df.status == 'Developed')].index, 'hepatitis_b'] = developed\n",
    "df.loc[df[(df.hepatitis_b.isna()) & (df.status == 'Developing')].index, 'hepatitis_b'] = developing"
   ]
  },
  {
   "cell_type": "code",
   "execution_count": 21,
   "metadata": {},
   "outputs": [
    {
     "data": {
      "text/plain": [
       "0"
      ]
     },
     "execution_count": 21,
     "metadata": {},
     "output_type": "execute_result"
    }
   ],
   "source": [
    "df.hepatitis_b.isna().sum()"
   ]
  },
  {
   "cell_type": "markdown",
   "metadata": {},
   "source": [
    "### Deal with missing BMI\n",
    "\n",
    "We will impute values for bmi in a similar manner to alcohol by using the countries median"
   ]
  },
  {
   "cell_type": "code",
   "execution_count": 22,
   "metadata": {},
   "outputs": [],
   "source": [
    "country = df.groupby('country').median()['bmi'].index\n",
    "bmi_score = df.groupby('country').median()['bmi']\n",
    "country_bmi = list(zip(country, bmi_score))\n",
    "country_bmi_dict = dict()\n",
    "\n",
    "for item in country_bmi:\n",
    "    country_bmi_dict[item[0]] = item[1]"
   ]
  },
  {
   "cell_type": "code",
   "execution_count": 23,
   "metadata": {},
   "outputs": [],
   "source": [
    "missing_bmi_index = df[df.bmi.isna()].country.map(country_bmi_dict).index\n",
    "missing_bmi_values = df[df.bmi.isna()].country.map(country_bmi_dict)\n",
    "df.loc[missing_bmi_index, 'bmi'] = missing_bmi_values"
   ]
  },
  {
   "cell_type": "code",
   "execution_count": 24,
   "metadata": {},
   "outputs": [
    {
     "data": {
      "text/plain": [
       "32"
      ]
     },
     "execution_count": 24,
     "metadata": {},
     "output_type": "execute_result"
    }
   ],
   "source": [
    "df.bmi.isna().sum()"
   ]
  },
  {
   "cell_type": "markdown",
   "metadata": {},
   "source": [
    "We are still missing data, which means some countries were missing all this feature. Let's replace the remaining by the median of developing vs developed countries"
   ]
  },
  {
   "cell_type": "code",
   "execution_count": 25,
   "metadata": {},
   "outputs": [
    {
     "data": {
      "text/plain": [
       "Developing    32\n",
       "Name: status, dtype: int64"
      ]
     },
     "execution_count": 25,
     "metadata": {},
     "output_type": "execute_result"
    }
   ],
   "source": [
    "df[df.bmi.isna()].status.value_counts()"
   ]
  },
  {
   "cell_type": "code",
   "execution_count": 26,
   "metadata": {},
   "outputs": [
    {
     "data": {
      "text/plain": [
       "(57.45, 35.150000000000006)"
      ]
     },
     "execution_count": 26,
     "metadata": {},
     "output_type": "execute_result"
    }
   ],
   "source": [
    "developed = df.groupby('status').median()['bmi'][0]\n",
    "developing = df.groupby('status').median()['bmi'][1]\n",
    "developed, developing"
   ]
  },
  {
   "cell_type": "code",
   "execution_count": 27,
   "metadata": {},
   "outputs": [],
   "source": [
    "df.loc[df[(df.bmi.isna()) & (df.status == 'Developed')].index, 'bmi'] = developed\n",
    "df.loc[df[(df.bmi.isna()) & (df.status == 'Developing')].index, 'bmi'] = developing"
   ]
  },
  {
   "cell_type": "code",
   "execution_count": 28,
   "metadata": {},
   "outputs": [
    {
     "data": {
      "text/plain": [
       "0"
      ]
     },
     "execution_count": 28,
     "metadata": {},
     "output_type": "execute_result"
    }
   ],
   "source": [
    "df.bmi.isna().sum()"
   ]
  },
  {
   "cell_type": "markdown",
   "metadata": {},
   "source": [
    "### Deal with missing Polio\n",
    "\n",
    "We will impute values for bmi in a similar manner to alcohol by using the countries median"
   ]
  },
  {
   "cell_type": "code",
   "execution_count": 29,
   "metadata": {},
   "outputs": [],
   "source": [
    "country = df.groupby('country').median()['polio'].index\n",
    "pol_score = df.groupby('country').median()['polio']\n",
    "country_pol = list(zip(country, pol_score))\n",
    "country_pol_dict = dict()\n",
    "\n",
    "for item in country_pol:\n",
    "    country_pol_dict[item[0]] = item[1]"
   ]
  },
  {
   "cell_type": "code",
   "execution_count": 30,
   "metadata": {},
   "outputs": [],
   "source": [
    "missing_pol_index = df[df.polio.isna()].country.map(country_pol_dict).index\n",
    "missing_pol_values = df[df.polio.isna()].country.map(country_pol_dict)\n",
    "df.loc[missing_pol_index, 'polio'] = missing_pol_values"
   ]
  },
  {
   "cell_type": "code",
   "execution_count": 31,
   "metadata": {},
   "outputs": [
    {
     "data": {
      "text/plain": [
       "0"
      ]
     },
     "execution_count": 31,
     "metadata": {},
     "output_type": "execute_result"
    }
   ],
   "source": [
    "df.polio.isna().sum()"
   ]
  },
  {
   "cell_type": "markdown",
   "metadata": {},
   "source": [
    "### Deal with missing Total expenditure\n",
    "\n",
    "We will impute values for total expenditure in a similar manner to alcohol by using the countries median"
   ]
  },
  {
   "cell_type": "code",
   "execution_count": 32,
   "metadata": {},
   "outputs": [],
   "source": [
    "country = df.groupby('country').median()['total_expenditure'].index\n",
    "exp_score = df.groupby('country').median()['total_expenditure']\n",
    "country_exp = list(zip(country, exp_score))\n",
    "country_exp_dict = dict()\n",
    "\n",
    "for item in country_exp:\n",
    "    country_exp_dict[item[0]] = item[1]"
   ]
  },
  {
   "cell_type": "code",
   "execution_count": 33,
   "metadata": {},
   "outputs": [],
   "source": [
    "missing_exp_index = df[df.total_expenditure.isna()].country.map(country_exp_dict).index\n",
    "missing_exp_values = df[df.total_expenditure.isna()].country.map(country_exp_dict)\n",
    "df.loc[missing_exp_index, 'total_expenditure'] = missing_exp_values"
   ]
  },
  {
   "cell_type": "code",
   "execution_count": 34,
   "metadata": {},
   "outputs": [
    {
     "data": {
      "text/plain": [
       "32"
      ]
     },
     "execution_count": 34,
     "metadata": {},
     "output_type": "execute_result"
    }
   ],
   "source": [
    "df.total_expenditure.isna().sum()"
   ]
  },
  {
   "cell_type": "markdown",
   "metadata": {},
   "source": [
    "We are still missing data, which means some countries were missing all this feature. Let's replace the remaining by the median of developing vs developed countries"
   ]
  },
  {
   "cell_type": "code",
   "execution_count": 35,
   "metadata": {},
   "outputs": [
    {
     "data": {
      "text/plain": [
       "Developing    32\n",
       "Name: status, dtype: int64"
      ]
     },
     "execution_count": 35,
     "metadata": {},
     "output_type": "execute_result"
    }
   ],
   "source": [
    "df[df.total_expenditure.isna()].status.value_counts()"
   ]
  },
  {
   "cell_type": "code",
   "execution_count": 36,
   "metadata": {},
   "outputs": [
    {
     "data": {
      "text/plain": [
       "(7.895, 5.39)"
      ]
     },
     "execution_count": 36,
     "metadata": {},
     "output_type": "execute_result"
    }
   ],
   "source": [
    "developed = df.groupby('status').median()['total_expenditure'][0]\n",
    "developing = df.groupby('status').median()['total_expenditure'][1]\n",
    "developed, developing"
   ]
  },
  {
   "cell_type": "code",
   "execution_count": 37,
   "metadata": {},
   "outputs": [],
   "source": [
    "df.loc[df[(df.total_expenditure.isna()) & (df.status == 'Developed')].index, 'total_expenditure'] = developed\n",
    "df.loc[df[(df.total_expenditure.isna()) & (df.status == 'Developing')].index, 'total_expenditure'] = developing"
   ]
  },
  {
   "cell_type": "code",
   "execution_count": 38,
   "metadata": {},
   "outputs": [
    {
     "data": {
      "text/plain": [
       "0"
      ]
     },
     "execution_count": 38,
     "metadata": {},
     "output_type": "execute_result"
    }
   ],
   "source": [
    "df.total_expenditure.isna().sum()"
   ]
  },
  {
   "cell_type": "markdown",
   "metadata": {},
   "source": [
    "### Deal with missing Diphtheria\n",
    "\n",
    "We will impute values for diphtheria in a similar manner to alcohol by using the countries median"
   ]
  },
  {
   "cell_type": "code",
   "execution_count": 39,
   "metadata": {},
   "outputs": [],
   "source": [
    "country = df.groupby('country').median()['diphtheria'].index\n",
    "dip_score = df.groupby('country').median()['diphtheria']\n",
    "country_dip = list(zip(country, dip_score))\n",
    "country_dip_dict = dict()\n",
    "\n",
    "for item in country_dip:\n",
    "    country_dip_dict[item[0]] = item[1]"
   ]
  },
  {
   "cell_type": "code",
   "execution_count": 40,
   "metadata": {},
   "outputs": [],
   "source": [
    "missing_dip_index = df[df.diphtheria.isna()].country.map(country_dip_dict).index\n",
    "missing_dip_values = df[df.diphtheria.isna()].country.map(country_dip_dict)\n",
    "df.loc[missing_dip_index, 'diphtheria'] = missing_dip_values"
   ]
  },
  {
   "cell_type": "code",
   "execution_count": 41,
   "metadata": {},
   "outputs": [
    {
     "data": {
      "text/plain": [
       "0"
      ]
     },
     "execution_count": 41,
     "metadata": {},
     "output_type": "execute_result"
    }
   ],
   "source": [
    "df.diphtheria.isna().sum()"
   ]
  },
  {
   "cell_type": "markdown",
   "metadata": {},
   "source": [
    "### Deal with missing GDP\n",
    "\n",
    "Note, we did this section two ways and will go with a different method seen in a separate notebook. Will merge in the clean values from a separate csv\n",
    "\n",
    "Lots of missing GDP. Some countries are missing every year's worth of GDP. We grabbed this missing info off the web, create a new dataframe, and then pull the values in on a per country/year basis for missing gdp. This will fix the countries with ALL the gdp missing. For the remaining countries, we will impute by country median as we did in prior imputes."
   ]
  },
  {
   "cell_type": "code",
   "execution_count": 42,
   "metadata": {},
   "outputs": [],
   "source": [
    "# miss_gdp = df[df.gdp.isnull()].country.value_counts()\n",
    "# countries_missing_all_gdp = list(miss_gdp[miss_gdp == 16].index)"
   ]
  },
  {
   "cell_type": "code",
   "execution_count": 43,
   "metadata": {},
   "outputs": [],
   "source": [
    "# gdp = pd.read_excel('Download-GDPPC-USD-countries.xlsx', header = 2)"
   ]
  },
  {
   "cell_type": "code",
   "execution_count": 44,
   "metadata": {},
   "outputs": [],
   "source": [
    "#gdp.Country.unique()"
   ]
  },
  {
   "cell_type": "code",
   "execution_count": 45,
   "metadata": {},
   "outputs": [],
   "source": [
    "# subset = ['Country', 2000, 2001, 2002, 2003, 2004, 2005, 2006, 2007, 2008,\n",
    "#           2009, 2010, 2011, 2012, 2013, 2014, 2015]\n",
    "# gdp = gdp[subset]\n",
    "# countries = ['Bahamas', 'Bolivia (Plurinational State of)', 'Congo', \"Côte d'Ivoire\", \n",
    "#              'Czechia', 'D.P.R. of Korea', 'D.R. of the Congo', 'Egypt', 'Eritrea', 'Gambia', \n",
    "#              'Iran (Islamic Republic of)', 'Iraq', 'Kyrgyzstan', \"Lao People's DR\", 'Libya', \n",
    "#              'Micronesia (FS of)', 'Papua New Guinea', 'Republic of Korea', \n",
    "#              'Republic of Moldova', 'Saint Lucia', 'Sao Tome and Principe', 'Slovakia', \n",
    "#              'Somalia', 'South Sudan', 'St. Vincent and the Grenadines', 'Sudan', \n",
    "#              'Sudan (Former)', 'U.R. of Tanzania: Mainland', \n",
    "#              'United Kingdom', 'United States', 'Venezuela (Bolivarian Republic of)', \n",
    "#              'Viet Nam', 'Yemen','North Macedonia']\n",
    "# gdp = gdp[gdp.Country.isin(countries)]\n",
    "# gdp.set_index('Country', inplace = True)\n",
    "# gdp = gdp.T"
   ]
  },
  {
   "cell_type": "code",
   "execution_count": 46,
   "metadata": {},
   "outputs": [],
   "source": [
    "#countries_missing_all_gdp"
   ]
  },
  {
   "cell_type": "code",
   "execution_count": 47,
   "metadata": {},
   "outputs": [],
   "source": [
    "# bahamas_gdp = gdp['Bahamas']\n",
    "# bahamas_gdp#.iloc[-1]\n",
    "# #bahamas_gdp.iloc[0]\n",
    "# #bahamas_gdp[-0]\n",
    "# bahamas_gdp.iloc[15]"
   ]
  },
  {
   "cell_type": "code",
   "execution_count": 48,
   "metadata": {},
   "outputs": [],
   "source": [
    "# ## We noticed difference in column names, so we had to rename them. The commented out try/except prints a couple cells\n",
    "# ## down shows how we determined which columns had name mismatches\n",
    "\n",
    "# gdp.rename(columns={\"Lao People's DR\": \"Lao People's Democratic Republic\",\n",
    "#                    \"United States\": \"United States of America\",\n",
    "#                    \"St. Vincent and the Grenadines\":\"Saint Vincent and the Grenadines\",\n",
    "#                     \"United Kingdom\": \"United Kingdom of Great Britain and Northern Ireland\",\n",
    "#                     \"U.R. of Tanzania: Mainland\":\"United Republic of Tanzania\",\n",
    "#                     \"D.R. of the Congo\":\"Democratic Republic of the Congo\",\n",
    "#                     \"North Macedonia\":\"The former Yugoslav republic of Macedonia\",\n",
    "#                     \"Micronesia (FS of)\":\"Micronesia (Federated States of)\",\n",
    "#                     \"D.P.R. of Korea\":\"Democratic People's Republic of Korea\"\n",
    "#                    }, inplace=True)"
   ]
  },
  {
   "cell_type": "code",
   "execution_count": 49,
   "metadata": {},
   "outputs": [],
   "source": [
    "# def fix_missing_gdp(col):\n",
    "#     gdp_col = gdp[col]\n",
    "#     for i, year in enumerate(df[(df.country == col) & (df.gdp.isna())].gdp):\n",
    "#         yr = 2015-i\n",
    "#         gdp_temp = gdp_col.iloc[15-i]\n",
    "#         df.loc[(df.country == col) & (df.gdp.isna()) & (df.year == yr), 'gdp'] = gdp_temp"
   ]
  },
  {
   "cell_type": "code",
   "execution_count": 50,
   "metadata": {
    "scrolled": true
   },
   "outputs": [],
   "source": [
    "# for i, country in enumerate(countries_missing_all_gdp):\n",
    "#     fix_missing_gdp(country)\n",
    "# #     try:\n",
    "# #         print(country, gdp[country].mean())\n",
    "# #     except:\n",
    "# #         print(i, \"column not found\")"
   ]
  },
  {
   "cell_type": "code",
   "execution_count": 51,
   "metadata": {
    "scrolled": true
   },
   "outputs": [],
   "source": [
    "# df[df.gdp.isnull()].country.value_counts()"
   ]
  },
  {
   "cell_type": "markdown",
   "metadata": {},
   "source": [
    "**For the remaining missing values, we will impute using the country median**"
   ]
  },
  {
   "cell_type": "code",
   "execution_count": 52,
   "metadata": {},
   "outputs": [],
   "source": [
    "# country = df.groupby('country').median()['gdp'].index\n",
    "# gdp_score = df.groupby('country').median()['gdp']\n",
    "# country_gdp = list(zip(country, gdp_score))\n",
    "# country_gdp_dict = dict()\n",
    "\n",
    "# for item in country_gdp:\n",
    "#     country_gdp_dict[item[0]] = item[1]"
   ]
  },
  {
   "cell_type": "code",
   "execution_count": 53,
   "metadata": {},
   "outputs": [],
   "source": [
    "# missing_gdp_index = df[df.gdp.isna()].country.map(country_gdp_dict).index\n",
    "# missing_gdp_values = df[df.gdp.isna()].country.map(country_gdp_dict)\n",
    "# df.loc[missing_gdp_index, 'gdp'] = missing_gdp_values"
   ]
  },
  {
   "cell_type": "code",
   "execution_count": 54,
   "metadata": {},
   "outputs": [],
   "source": [
    "# df.gdp.isna().sum()"
   ]
  },
  {
   "cell_type": "markdown",
   "metadata": {},
   "source": [
    "### Deal with missing Population\n",
    "\n",
    "Note, we did this section two ways and will go with a different method seen in a separate notebook. Will merge in the clean values from a separate csv"
   ]
  },
  {
   "cell_type": "code",
   "execution_count": 55,
   "metadata": {},
   "outputs": [],
   "source": [
    "# pop_df = pd.read_csv(\"API_SP.POP.TOTL_DS2_en_csv_v2_1345178.csv\")"
   ]
  },
  {
   "cell_type": "code",
   "execution_count": 56,
   "metadata": {},
   "outputs": [],
   "source": [
    "# to_drop = []\n",
    "# for i in range(1960, 2000):\n",
    "#     to_drop.append(str(i))\n",
    "# for i in range(2016,2020):\n",
    "#     to_drop.append(str(i))\n",
    "# pop_df.drop(to_drop, axis=1, inplace=True)\n",
    "# pop_df.drop(['Country Code', 'Indicator Code', 'Indicator Name'], inplace=True, axis=1)"
   ]
  },
  {
   "cell_type": "code",
   "execution_count": 57,
   "metadata": {
    "scrolled": true
   },
   "outputs": [],
   "source": [
    "# pop_df = pop_df.set_index('Country Name').T"
   ]
  },
  {
   "cell_type": "markdown",
   "metadata": {},
   "source": [
    "Figure out which countries are missing populations"
   ]
  },
  {
   "cell_type": "code",
   "execution_count": 58,
   "metadata": {},
   "outputs": [],
   "source": [
    "# countries_missing_pop = list(df[df.population.isna()].country.value_counts()[0:-1].index)"
   ]
  },
  {
   "cell_type": "code",
   "execution_count": 59,
   "metadata": {},
   "outputs": [],
   "source": [
    "# countries_missing_pop[:5]"
   ]
  },
  {
   "cell_type": "code",
   "execution_count": 60,
   "metadata": {},
   "outputs": [],
   "source": [
    "# pop_df.rename(columns={\n",
    "#                     \"Yemen, Rep.\":\"Yemen\",\n",
    "#                     \"United States\":\"United States of America\",\n",
    "#                     \"Vietnam\":\"Viet Nam\",\n",
    "#                     \"North Macedonia\":\"The former Yugoslav republic of Macedonia\",\n",
    "#                     \"Bolivia\":\"Bolivia (Plurinational State of)\",\n",
    "#                     \"Czech Republic\":\"Czechia\",\n",
    "#                     \"Bahamas, The\":\"Bahamas\",\n",
    "#                     \"Iran, Islamic Rep.\":\"Iran (Islamic Republic of)\",\n",
    "#                     \"Korea, Rep.\":\"Republic of Korea\",\n",
    "#                     \"Congo, Rep.\":\"Congo\",\n",
    "#                     \"Congo, Dem. Rep.\":\"Democratic Republic of the Congo\",\n",
    "#                     \"Egypt, Arab Rep.\":\"Egypt\",\n",
    "#                     \"Korea, Dem. People’s Rep.\":\"Democratic People's Republic of Korea\",\n",
    "#                     \"Tanzania\":\"United Republic of Tanzania\",\n",
    "#                     \"Kyrgyz Republic\":\"Kyrgyzstan\",\n",
    "#                     \"Cote d'Ivoire\":\"Côte d'Ivoire\",\n",
    "#                     \"Gambia, The\":\"Gambia\",\n",
    "#                     \"Micronesia, Fed. Sts.\":\"Micronesia (Federated States of)\",\n",
    "#                     \"Slovak Republic\":\"Slovakia\",\n",
    "#                     \"Venezuela, RB\":\"Venezuela (Bolivarian Republic of)\",\n",
    "#                     \"St. Vincent and the Grenadines\":\"Saint Vincent and the Grenadines\",\n",
    "#                     \"Lao PDR\":\"Lao People's Democratic Republic\",\n",
    "#                     \"United Kingdom\":\"United Kingdom of Great Britain and Northern Ireland\",\n",
    "#                     \"St. Lucia\":\"Saint Lucia\",\n",
    "#                     \"Moldova\":\"Republic of Moldova\"\n",
    "#                    }, inplace=True)"
   ]
  },
  {
   "cell_type": "code",
   "execution_count": 61,
   "metadata": {},
   "outputs": [],
   "source": [
    "#pop_df['Libya']"
   ]
  },
  {
   "cell_type": "code",
   "execution_count": 62,
   "metadata": {},
   "outputs": [],
   "source": [
    "#df[(df.country == 'Libya') & (df.population.isna())][['year', 'population']]"
   ]
  },
  {
   "cell_type": "code",
   "execution_count": 63,
   "metadata": {},
   "outputs": [],
   "source": [
    "# def fix_missing_pop(col):\n",
    "#     pop_col = pop_df[col]\n",
    "#     for i, year in enumerate(df[(df.country == col) & (df.population.isna())].population):\n",
    "#         yr = 2015-i\n",
    "#         pop_temp = pop_col.iloc[15-i]\n",
    "#         df.loc[(df.country == col) & (df.population.isna()) & (df.year == yr), 'population'] = pop_temp"
   ]
  },
  {
   "cell_type": "code",
   "execution_count": 64,
   "metadata": {},
   "outputs": [],
   "source": [
    "# for i, country in enumerate(countries_missing_pop):\n",
    "#     fix_missing_pop(country)\n",
    "# #     try:\n",
    "# #         print(country, pop_df[country].mean())\n",
    "# #     except:\n",
    "# #         print(i, \"column not found\")"
   ]
  },
  {
   "cell_type": "code",
   "execution_count": 65,
   "metadata": {},
   "outputs": [],
   "source": [
    "# df.population.isna().sum()"
   ]
  },
  {
   "cell_type": "markdown",
   "metadata": {},
   "source": [
    "At this point, we have only 4 missing values remaining. Let's impute these"
   ]
  },
  {
   "cell_type": "code",
   "execution_count": 66,
   "metadata": {},
   "outputs": [],
   "source": [
    "# yearly_increase = (df[df.country == 'Eritrea'].population.max() - \n",
    "#                    df[df.country == 'Eritrea'].population.min()) / (2011-2000)"
   ]
  },
  {
   "cell_type": "code",
   "execution_count": 67,
   "metadata": {},
   "outputs": [],
   "source": [
    "# Eritrea_pop_2012 = df[df.country == 'Eritrea'].population.max() + (381176.2727272727)\n",
    "# Eritrea_pop_2013 = df[df.country == 'Eritrea'].population.max() + (2 * 381176.2727272727)\n",
    "# Eritrea_pop_2014 = df[df.country == 'Eritrea'].population.max() + (3 * 381176.2727272727)\n",
    "# Eritrea_pop_2015 = df[df.country == 'Eritrea'].population.max() + (4 * 381176.2727272727)"
   ]
  },
  {
   "cell_type": "code",
   "execution_count": 68,
   "metadata": {},
   "outputs": [],
   "source": [
    "# df.loc[df[(df.country == 'Eritrea') & (df.year == 2012)].index, 'population'] = Eritrea_pop_2012\n",
    "# df.loc[df[(df.country == 'Eritrea') & (df.year == 2013)].index, 'population'] = Eritrea_pop_2013\n",
    "# df.loc[df[(df.country == 'Eritrea') & (df.year == 2014)].index, 'population'] = Eritrea_pop_2014\n",
    "# df.loc[df[(df.country == 'Eritrea') & (df.year == 2015)].index, 'population'] = Eritrea_pop_2015"
   ]
  },
  {
   "cell_type": "code",
   "execution_count": 69,
   "metadata": {},
   "outputs": [],
   "source": [
    "# df.population.isna().sum()"
   ]
  },
  {
   "cell_type": "markdown",
   "metadata": {},
   "source": [
    "### Deal with missing thinness  10-19 years\n",
    "\n",
    "Only Sudan and South Sudan are missing these. But, there are missing every year. We will impute by the median of developing countries, by year."
   ]
  },
  {
   "cell_type": "code",
   "execution_count": 70,
   "metadata": {},
   "outputs": [],
   "source": [
    "thin_10_19_year_median = dict(df[df.status == 'Developing'].groupby('year')['thinness__10-19_years'].median())"
   ]
  },
  {
   "cell_type": "code",
   "execution_count": 71,
   "metadata": {},
   "outputs": [],
   "source": [
    "to_replace = df[(df['thinness__10-19_years'].isna())].year.map(thin_10_19_year_median).index\n",
    "values = df[(df['thinness__10-19_years'].isna())].year.map(thin_10_19_year_median)\n",
    "df.loc[to_replace, 'thinness__10-19_years'] = values"
   ]
  },
  {
   "cell_type": "code",
   "execution_count": 72,
   "metadata": {},
   "outputs": [
    {
     "data": {
      "text/plain": [
       "0"
      ]
     },
     "execution_count": 72,
     "metadata": {},
     "output_type": "execute_result"
    }
   ],
   "source": [
    "df['thinness__10-19_years'].isna().sum()"
   ]
  },
  {
   "cell_type": "markdown",
   "metadata": {},
   "source": [
    "### Deal with missing thinness 5-9 years\n",
    "\n",
    "Only Sudan and South Sudan are missing these. But, there are missing every year. We will impute by the median of developing countries, by year."
   ]
  },
  {
   "cell_type": "code",
   "execution_count": 73,
   "metadata": {},
   "outputs": [],
   "source": [
    "thin_5_9_year_median = dict(df[df.status == 'Developing'].groupby('year')['thinness_5-9_years'].median())"
   ]
  },
  {
   "cell_type": "code",
   "execution_count": 74,
   "metadata": {},
   "outputs": [],
   "source": [
    "to_replace = df[(df['thinness_5-9_years'].isna())].year.map(thin_5_9_year_median).index\n",
    "values = df[(df['thinness_5-9_years'].isna())].year.map(thin_5_9_year_median)\n",
    "df.loc[to_replace, 'thinness_5-9_years'] = values"
   ]
  },
  {
   "cell_type": "code",
   "execution_count": 75,
   "metadata": {},
   "outputs": [
    {
     "data": {
      "text/plain": [
       "0"
      ]
     },
     "execution_count": 75,
     "metadata": {},
     "output_type": "execute_result"
    }
   ],
   "source": [
    "df['thinness_5-9_years'].isna().sum()"
   ]
  },
  {
   "cell_type": "markdown",
   "metadata": {},
   "source": [
    "### Deal with missing Income composition of resources\n",
    "Note, we did this section two ways and will go with a different method seen in a separate notebook. Will merge in the clean values from a separate csv\n",
    "\n",
    "As seen below, every country that is missing is missing every single value. Again, for simplicity, we will replace by the median of each row based on its developed / developing status."
   ]
  },
  {
   "cell_type": "code",
   "execution_count": 76,
   "metadata": {},
   "outputs": [],
   "source": [
    "# df[df.income_composition_of_resources.isnull()].country.value_counts()"
   ]
  },
  {
   "cell_type": "code",
   "execution_count": 77,
   "metadata": {},
   "outputs": [],
   "source": [
    "# developed = df.groupby('status').median()['income_composition_of_resources'][0]\n",
    "# developing = df.groupby('status').median()['income_composition_of_resources'][1]\n",
    "# developed, developing"
   ]
  },
  {
   "cell_type": "code",
   "execution_count": 78,
   "metadata": {},
   "outputs": [],
   "source": [
    "# df.loc[df[(df.income_composition_of_resources.isna()) & \n",
    "#           (df.status == 'Developed')].index, 'income_composition_of_resources'] = developed\n",
    "\n",
    "# df.loc[df[(df.income_composition_of_resources.isna()) & \n",
    "#           (df.status == 'Developing')].index, 'income_composition_of_resources'] = developing\n",
    "\n"
   ]
  },
  {
   "cell_type": "code",
   "execution_count": 79,
   "metadata": {},
   "outputs": [],
   "source": [
    "# df.income_composition_of_resources.isna().sum()"
   ]
  },
  {
   "cell_type": "markdown",
   "metadata": {},
   "source": [
    "### Deal with missing Schooling\n",
    "\n",
    "Note, we did this section two ways and will go with a different method seen in a separate notebook. Will merge in the clean values from a separate csv\n",
    "\n",
    "As seen below, every country that is missing is missing every single value. Again, for simplicity, we will replace by the median of each row based on its developed / developing status."
   ]
  },
  {
   "cell_type": "code",
   "execution_count": 80,
   "metadata": {
    "scrolled": true
   },
   "outputs": [],
   "source": [
    "# df[df.schooling.isnull()].country.value_counts()"
   ]
  },
  {
   "cell_type": "code",
   "execution_count": 81,
   "metadata": {},
   "outputs": [],
   "source": [
    "# developed = df.groupby('status').median()['schooling'][0]\n",
    "# developing = df.groupby('status').median()['schooling'][1]\n",
    "# developed, developing"
   ]
  },
  {
   "cell_type": "code",
   "execution_count": 82,
   "metadata": {},
   "outputs": [],
   "source": [
    "# df.loc[df[(df.schooling.isna()) & (df.status == 'Developed')].index, 'schooling'] = developed\n",
    "\n",
    "# df.loc[df[(df.schooling.isna()) & (df.status == 'Developing')].index, 'schooling'] = developing\n",
    "\n"
   ]
  },
  {
   "cell_type": "code",
   "execution_count": 83,
   "metadata": {},
   "outputs": [],
   "source": [
    "# df.schooling.isna().sum()"
   ]
  },
  {
   "cell_type": "markdown",
   "metadata": {},
   "source": [
    "## Pull in cleaned Pop, Gdp, IncomeComp, Schooling from other notebook's csv"
   ]
  },
  {
   "cell_type": "code",
   "execution_count": 84,
   "metadata": {},
   "outputs": [],
   "source": [
    "df2 = pd.read_csv(\"cleaned_nulls.csv\").drop(\"Unnamed: 0\", axis=1)\n",
    "df2 = df2[['gdp', 'population', 'income_composition_of_resources', 'schooling']]\n"
   ]
  },
  {
   "cell_type": "code",
   "execution_count": 85,
   "metadata": {},
   "outputs": [],
   "source": [
    "df = df.reset_index().drop('index', axis=1)\n",
    "df.drop(['gdp', 'population', 'income_composition_of_resources', 'schooling'], axis=1, inplace=True)"
   ]
  },
  {
   "cell_type": "code",
   "execution_count": 86,
   "metadata": {
    "scrolled": true
   },
   "outputs": [],
   "source": [
    "df = pd.concat([df,df2], axis=1)"
   ]
  },
  {
   "cell_type": "code",
   "execution_count": null,
   "metadata": {},
   "outputs": [],
   "source": []
  },
  {
   "cell_type": "markdown",
   "metadata": {},
   "source": [
    "### Confirm that all missing values are removed"
   ]
  },
  {
   "cell_type": "code",
   "execution_count": 87,
   "metadata": {
    "scrolled": false
   },
   "outputs": [
    {
     "data": {
      "text/plain": [
       "country                            0\n",
       "year                               0\n",
       "status                             0\n",
       "life_expectancy                    0\n",
       "adult_mortality                    0\n",
       "infant_deaths                      0\n",
       "alcohol                            0\n",
       "percentage_expenditure             0\n",
       "hepatitis_b                        0\n",
       "measles                            0\n",
       "bmi                                0\n",
       "under-five_deaths                  0\n",
       "polio                              0\n",
       "total_expenditure                  0\n",
       "diphtheria                         0\n",
       "hiv/aids                           0\n",
       "thinness__10-19_years              0\n",
       "thinness_5-9_years                 0\n",
       "gdp                                0\n",
       "population                         0\n",
       "income_composition_of_resources    0\n",
       "schooling                          0\n",
       "dtype: int64"
      ]
     },
     "execution_count": 87,
     "metadata": {},
     "output_type": "execute_result"
    }
   ],
   "source": [
    "df.isna().sum()"
   ]
  },
  {
   "cell_type": "markdown",
   "metadata": {},
   "source": [
    "## Issue with adult_mortality\n",
    "\n",
    "We noticed that there are issues with this column while modeling. This feature is supposed to be a probability, a value between 0-100, where 88 == 88% liklihood. Many of the values are an order of magnitude X10 higher than they should be."
   ]
  },
  {
   "cell_type": "code",
   "execution_count": 90,
   "metadata": {},
   "outputs": [
    {
     "data": {
      "text/plain": [
       "<matplotlib.axes._subplots.AxesSubplot at 0x118977d90>"
      ]
     },
     "execution_count": 90,
     "metadata": {},
     "output_type": "execute_result"
    },
    {
     "data": {
      "image/png": "[encoded data removed]",
      "text/plain": [
       "<Figure size 432x288 with 1 Axes>"
      ]
     },
     "metadata": {
      "needs_background": "light"
     },
     "output_type": "display_data"
    }
   ],
   "source": [
    "sns.scatterplot(df.adult_mortality, df.life_expectancy)"
   ]
  },
  {
   "cell_type": "code",
   "execution_count": 94,
   "metadata": {},
   "outputs": [],
   "source": [
    "# Fix these values\n",
    "df.adult_mortality = np.where(df.adult_mortality > 100, df.adult_mortality/10, df.adult_mortality)"
   ]
  },
  {
   "cell_type": "code",
   "execution_count": 97,
   "metadata": {
    "scrolled": true
   },
   "outputs": [
    {
     "data": {
      "text/plain": [
       "<matplotlib.axes._subplots.AxesSubplot at 0x11a45b9a0>"
      ]
     },
     "execution_count": 97,
     "metadata": {},
     "output_type": "execute_result"
    },
    {
     "data": {
      "image/png": "[encoded data removed]",
      "text/plain": [
       "<Figure size 432x288 with 1 Axes>"
      ]
     },
     "metadata": {
      "needs_background": "light"
     },
     "output_type": "display_data"
    }
   ],
   "source": [
    "# Check to see if it was fixed\n",
    "sns.scatterplot(df.adult_mortality, df.life_expectancy)"
   ]
  },
  {
   "cell_type": "markdown",
   "metadata": {},
   "source": [
    "It is fixed, lo"
   ]
  },
  {
   "cell_type": "code",
   "execution_count": 89,
   "metadata": {},
   "outputs": [],
   "source": [
    "df.to_csv(\"Life_Expectancy_No_Missing_Vals.csv\")"
   ]
  },
  {
   "cell_type": "code",
   "execution_count": null,
   "metadata": {},
   "outputs": [],
   "source": []
  }
 ],
 "metadata": {
  "kernelspec": {
   "display_name": "Python 3",
   "language": "python",
   "name": "python3"
  },
  "language_info": {
   "codemirror_mode": {
    "name": "ipython",
    "version": 3
   },
   "file_extension": ".py",
   "mimetype": "text/x-python",
   "name": "python",
   "nbconvert_exporter": "python",
   "pygments_lexer": "ipython3",
   "version": "3.8.3"
  }
 },
 "nbformat": 4,
 "nbformat_minor": 4
}
