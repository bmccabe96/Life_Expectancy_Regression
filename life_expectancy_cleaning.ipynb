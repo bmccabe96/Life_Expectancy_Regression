{
 "cells": [
  {
   "cell_type": "code",
   "execution_count": 974,
   "metadata": {},
   "outputs": [],
   "source": [
    "import pandas as pd\n",
    "import scipy.stats as stats\n",
    "import numpy as np\n",
    "import matplotlib.pyplot as plt\n",
    "%matplotlib inline\n",
    "import seaborn as sns"
   ]
  },
  {
   "cell_type": "code",
   "execution_count": 975,
   "metadata": {},
   "outputs": [],
   "source": [
    "df = pd.read_csv('datasets_12603_17232_Life Expectancy Data.csv')\n",
    "pd.set_option('display.max_columns', 50)"
   ]
  },
  {
   "cell_type": "code",
   "execution_count": 976,
   "metadata": {
    "scrolled": true
   },
   "outputs": [
    {
     "name": "stdout",
     "output_type": "stream",
     "text": [
      "(2938, 22)\n"
     ]
    },
    {
     "data": {
      "text/html": [
       "<div>\n",
       "<style scoped>\n",
       "    .dataframe tbody tr th:only-of-type {\n",
       "        vertical-align: middle;\n",
       "    }\n",
       "\n",
       "    .dataframe tbody tr th {\n",
       "        vertical-align: top;\n",
       "    }\n",
       "\n",
       "    .dataframe thead th {\n",
       "        text-align: right;\n",
       "    }\n",
       "</style>\n",
       "<table border=\"1\" class=\"dataframe\">\n",
       "  <thead>\n",
       "    <tr style=\"text-align: right;\">\n",
       "      <th></th>\n",
       "      <th>Country</th>\n",
       "      <th>Year</th>\n",
       "      <th>Status</th>\n",
       "      <th>Life expectancy</th>\n",
       "      <th>Adult Mortality</th>\n",
       "      <th>infant deaths</th>\n",
       "      <th>Alcohol</th>\n",
       "      <th>percentage expenditure</th>\n",
       "      <th>Hepatitis B</th>\n",
       "      <th>Measles</th>\n",
       "      <th>BMI</th>\n",
       "      <th>under-five deaths</th>\n",
       "      <th>Polio</th>\n",
       "      <th>Total expenditure</th>\n",
       "      <th>Diphtheria</th>\n",
       "      <th>HIV/AIDS</th>\n",
       "      <th>GDP</th>\n",
       "      <th>Population</th>\n",
       "      <th>thinness  1-19 years</th>\n",
       "      <th>thinness 5-9 years</th>\n",
       "      <th>Income composition of resources</th>\n",
       "      <th>Schooling</th>\n",
       "    </tr>\n",
       "  </thead>\n",
       "  <tbody>\n",
       "    <tr>\n",
       "      <th>0</th>\n",
       "      <td>Afghanistan</td>\n",
       "      <td>2015</td>\n",
       "      <td>Developing</td>\n",
       "      <td>65.0</td>\n",
       "      <td>263.0</td>\n",
       "      <td>62</td>\n",
       "      <td>0.01</td>\n",
       "      <td>71.279624</td>\n",
       "      <td>65.0</td>\n",
       "      <td>1154</td>\n",
       "      <td>19.1</td>\n",
       "      <td>83</td>\n",
       "      <td>6.0</td>\n",
       "      <td>8.16</td>\n",
       "      <td>65.0</td>\n",
       "      <td>0.1</td>\n",
       "      <td>584.259210</td>\n",
       "      <td>33736494.0</td>\n",
       "      <td>17.2</td>\n",
       "      <td>17.3</td>\n",
       "      <td>0.479</td>\n",
       "      <td>10.1</td>\n",
       "    </tr>\n",
       "    <tr>\n",
       "      <th>1</th>\n",
       "      <td>Afghanistan</td>\n",
       "      <td>2014</td>\n",
       "      <td>Developing</td>\n",
       "      <td>59.9</td>\n",
       "      <td>271.0</td>\n",
       "      <td>64</td>\n",
       "      <td>0.01</td>\n",
       "      <td>73.523582</td>\n",
       "      <td>62.0</td>\n",
       "      <td>492</td>\n",
       "      <td>18.6</td>\n",
       "      <td>86</td>\n",
       "      <td>58.0</td>\n",
       "      <td>8.18</td>\n",
       "      <td>62.0</td>\n",
       "      <td>0.1</td>\n",
       "      <td>612.696514</td>\n",
       "      <td>327582.0</td>\n",
       "      <td>17.5</td>\n",
       "      <td>17.5</td>\n",
       "      <td>0.476</td>\n",
       "      <td>10.0</td>\n",
       "    </tr>\n",
       "    <tr>\n",
       "      <th>2</th>\n",
       "      <td>Afghanistan</td>\n",
       "      <td>2013</td>\n",
       "      <td>Developing</td>\n",
       "      <td>59.9</td>\n",
       "      <td>268.0</td>\n",
       "      <td>66</td>\n",
       "      <td>0.01</td>\n",
       "      <td>73.219243</td>\n",
       "      <td>64.0</td>\n",
       "      <td>430</td>\n",
       "      <td>18.1</td>\n",
       "      <td>89</td>\n",
       "      <td>62.0</td>\n",
       "      <td>8.13</td>\n",
       "      <td>64.0</td>\n",
       "      <td>0.1</td>\n",
       "      <td>631.744976</td>\n",
       "      <td>31731688.0</td>\n",
       "      <td>17.7</td>\n",
       "      <td>17.7</td>\n",
       "      <td>0.470</td>\n",
       "      <td>9.9</td>\n",
       "    </tr>\n",
       "    <tr>\n",
       "      <th>3</th>\n",
       "      <td>Afghanistan</td>\n",
       "      <td>2012</td>\n",
       "      <td>Developing</td>\n",
       "      <td>59.5</td>\n",
       "      <td>272.0</td>\n",
       "      <td>69</td>\n",
       "      <td>0.01</td>\n",
       "      <td>78.184215</td>\n",
       "      <td>67.0</td>\n",
       "      <td>2787</td>\n",
       "      <td>17.6</td>\n",
       "      <td>93</td>\n",
       "      <td>67.0</td>\n",
       "      <td>8.52</td>\n",
       "      <td>67.0</td>\n",
       "      <td>0.1</td>\n",
       "      <td>669.959000</td>\n",
       "      <td>3696958.0</td>\n",
       "      <td>17.9</td>\n",
       "      <td>18.0</td>\n",
       "      <td>0.463</td>\n",
       "      <td>9.8</td>\n",
       "    </tr>\n",
       "    <tr>\n",
       "      <th>4</th>\n",
       "      <td>Afghanistan</td>\n",
       "      <td>2011</td>\n",
       "      <td>Developing</td>\n",
       "      <td>59.2</td>\n",
       "      <td>275.0</td>\n",
       "      <td>71</td>\n",
       "      <td>0.01</td>\n",
       "      <td>7.097109</td>\n",
       "      <td>68.0</td>\n",
       "      <td>3013</td>\n",
       "      <td>17.2</td>\n",
       "      <td>97</td>\n",
       "      <td>68.0</td>\n",
       "      <td>7.87</td>\n",
       "      <td>68.0</td>\n",
       "      <td>0.1</td>\n",
       "      <td>63.537231</td>\n",
       "      <td>2978599.0</td>\n",
       "      <td>18.2</td>\n",
       "      <td>18.2</td>\n",
       "      <td>0.454</td>\n",
       "      <td>9.5</td>\n",
       "    </tr>\n",
       "  </tbody>\n",
       "</table>\n",
       "</div>"
      ],
      "text/plain": [
       "       Country  Year      Status  Life expectancy   Adult Mortality  \\\n",
       "0  Afghanistan  2015  Developing              65.0            263.0   \n",
       "1  Afghanistan  2014  Developing              59.9            271.0   \n",
       "2  Afghanistan  2013  Developing              59.9            268.0   \n",
       "3  Afghanistan  2012  Developing              59.5            272.0   \n",
       "4  Afghanistan  2011  Developing              59.2            275.0   \n",
       "\n",
       "   infant deaths  Alcohol  percentage expenditure  Hepatitis B  Measles   \\\n",
       "0             62     0.01               71.279624         65.0      1154   \n",
       "1             64     0.01               73.523582         62.0       492   \n",
       "2             66     0.01               73.219243         64.0       430   \n",
       "3             69     0.01               78.184215         67.0      2787   \n",
       "4             71     0.01                7.097109         68.0      3013   \n",
       "\n",
       "    BMI   under-five deaths   Polio  Total expenditure  Diphtheria   \\\n",
       "0   19.1                  83    6.0               8.16         65.0   \n",
       "1   18.6                  86   58.0               8.18         62.0   \n",
       "2   18.1                  89   62.0               8.13         64.0   \n",
       "3   17.6                  93   67.0               8.52         67.0   \n",
       "4   17.2                  97   68.0               7.87         68.0   \n",
       "\n",
       "    HIV/AIDS         GDP  Population   thinness  1-19 years  \\\n",
       "0        0.1  584.259210  33736494.0                   17.2   \n",
       "1        0.1  612.696514    327582.0                   17.5   \n",
       "2        0.1  631.744976  31731688.0                   17.7   \n",
       "3        0.1  669.959000   3696958.0                   17.9   \n",
       "4        0.1   63.537231   2978599.0                   18.2   \n",
       "\n",
       "    thinness 5-9 years  Income composition of resources  Schooling  \n",
       "0                 17.3                            0.479       10.1  \n",
       "1                 17.5                            0.476       10.0  \n",
       "2                 17.7                            0.470        9.9  \n",
       "3                 18.0                            0.463        9.8  \n",
       "4                 18.2                            0.454        9.5  "
      ]
     },
     "execution_count": 976,
     "metadata": {},
     "output_type": "execute_result"
    }
   ],
   "source": [
    "print(df.shape)\n",
    "df.head()"
   ]
  },
  {
   "cell_type": "markdown",
   "metadata": {},
   "source": [
    "# Clean Column Names #"
   ]
  },
  {
   "cell_type": "code",
   "execution_count": 977,
   "metadata": {},
   "outputs": [
    {
     "data": {
      "text/plain": [
       "Index(['Country', 'Year', 'Status', 'Life expectancy ', 'Adult Mortality',\n",
       "       'infant deaths', 'Alcohol', 'percentage expenditure', 'Hepatitis B',\n",
       "       'Measles ', ' BMI ', 'under-five deaths ', 'Polio', 'Total expenditure',\n",
       "       'Diphtheria ', ' HIV/AIDS', 'GDP', 'Population',\n",
       "       ' thinness  1-19 years', ' thinness 5-9 years',\n",
       "       'Income composition of resources', 'Schooling'],\n",
       "      dtype='object')"
      ]
     },
     "execution_count": 977,
     "metadata": {},
     "output_type": "execute_result"
    }
   ],
   "source": [
    "df.columns"
   ]
  },
  {
   "cell_type": "code",
   "execution_count": 978,
   "metadata": {
    "scrolled": true
   },
   "outputs": [],
   "source": [
    "df.columns = df.columns.str.strip().str.replace(\" \",\"_\").str.lower()"
   ]
  },
  {
   "cell_type": "code",
   "execution_count": 979,
   "metadata": {},
   "outputs": [],
   "source": [
    "df.rename({'thinness__1-19_years' : 'thinness__10-19_years'}, axis = 1, inplace = True)"
   ]
  },
  {
   "cell_type": "code",
   "execution_count": 980,
   "metadata": {
    "scrolled": false
   },
   "outputs": [
    {
     "data": {
      "text/plain": [
       "Index(['country', 'year', 'status', 'life_expectancy', 'adult_mortality',\n",
       "       'infant_deaths', 'alcohol', 'percentage_expenditure', 'hepatitis_b',\n",
       "       'measles', 'bmi', 'under-five_deaths', 'polio', 'total_expenditure',\n",
       "       'diphtheria', 'hiv/aids', 'gdp', 'population', 'thinness__10-19_years',\n",
       "       'thinness_5-9_years', 'income_composition_of_resources', 'schooling'],\n",
       "      dtype='object')"
      ]
     },
     "execution_count": 980,
     "metadata": {},
     "output_type": "execute_result"
    }
   ],
   "source": [
    "df.columns"
   ]
  },
  {
   "cell_type": "markdown",
   "metadata": {},
   "source": [
    "# Missing Values #"
   ]
  },
  {
   "cell_type": "code",
   "execution_count": 981,
   "metadata": {},
   "outputs": [
    {
     "data": {
      "text/plain": [
       "country                              0\n",
       "year                                 0\n",
       "status                               0\n",
       "life_expectancy                     10\n",
       "adult_mortality                     10\n",
       "infant_deaths                        0\n",
       "alcohol                            194\n",
       "percentage_expenditure               0\n",
       "hepatitis_b                        553\n",
       "measles                              0\n",
       "bmi                                 34\n",
       "under-five_deaths                    0\n",
       "polio                               19\n",
       "total_expenditure                  226\n",
       "diphtheria                          19\n",
       "hiv/aids                             0\n",
       "gdp                                448\n",
       "population                         652\n",
       "thinness__10-19_years               34\n",
       "thinness_5-9_years                  34\n",
       "income_composition_of_resources    167\n",
       "schooling                          163\n",
       "dtype: int64"
      ]
     },
     "execution_count": 981,
     "metadata": {},
     "output_type": "execute_result"
    }
   ],
   "source": [
    "df.isnull().sum()"
   ]
  },
  {
   "cell_type": "code",
   "execution_count": 982,
   "metadata": {},
   "outputs": [],
   "source": [
    "# remove life_expectancy, since it it our target just remove those\n",
    "df = df[df.life_expectancy.notnull()]"
   ]
  },
  {
   "cell_type": "markdown",
   "metadata": {},
   "source": [
    "## Fill in GDP ##"
   ]
  },
  {
   "cell_type": "code",
   "execution_count": 983,
   "metadata": {
    "scrolled": false
   },
   "outputs": [
    {
     "data": {
      "text/plain": [
       "Congo                                                   16\n",
       "Republic of Korea                                       16\n",
       "Gambia                                                  16\n",
       "Lao People's Democratic Republic                        16\n",
       "Saint Vincent and the Grenadines                        16\n",
       "Bahamas                                                 16\n",
       "Kyrgyzstan                                              16\n",
       "Côte d'Ivoire                                           16\n",
       "Democratic Republic of the Congo                        16\n",
       "Micronesia (Federated States of)                        16\n",
       "Czechia                                                 16\n",
       "Republic of Moldova                                     16\n",
       "Bolivia (Plurinational State of)                        16\n",
       "Yemen                                                   16\n",
       "Venezuela (Bolivarian Republic of)                      16\n",
       "Viet Nam                                                16\n",
       "The former Yugoslav republic of Macedonia               16\n",
       "Democratic People's Republic of Korea                   16\n",
       "Saint Lucia                                             16\n",
       "Iran (Islamic Republic of)                              16\n",
       "United Kingdom of Great Britain and Northern Ireland    16\n",
       "United States of America                                16\n",
       "United Republic of Tanzania                             16\n",
       "Egypt                                                   16\n",
       "Slovakia                                                16\n",
       "Somalia                                                 13\n",
       "Syrian Arab Republic                                     8\n",
       "South Sudan                                              8\n",
       "Libya                                                    4\n",
       "Eritrea                                                  4\n",
       "Iraq                                                     4\n",
       "Sao Tome and Principe                                    1\n",
       "Papua New Guinea                                         1\n",
       "Name: country, dtype: int64"
      ]
     },
     "execution_count": 983,
     "metadata": {},
     "output_type": "execute_result"
    }
   ],
   "source": [
    "# countries with missing values\n",
    "df[df.gdp.isnull()].country.value_counts()"
   ]
  },
  {
   "cell_type": "code",
   "execution_count": 984,
   "metadata": {
    "scrolled": true
   },
   "outputs": [
    {
     "data": {
      "text/html": [
       "<div>\n",
       "<style scoped>\n",
       "    .dataframe tbody tr th:only-of-type {\n",
       "        vertical-align: middle;\n",
       "    }\n",
       "\n",
       "    .dataframe tbody tr th {\n",
       "        vertical-align: top;\n",
       "    }\n",
       "\n",
       "    .dataframe thead th {\n",
       "        text-align: right;\n",
       "    }\n",
       "</style>\n",
       "<table border=\"1\" class=\"dataframe\">\n",
       "  <thead>\n",
       "    <tr style=\"text-align: right;\">\n",
       "      <th></th>\n",
       "      <th>CountryID</th>\n",
       "      <th>Country</th>\n",
       "      <th>2000</th>\n",
       "      <th>2001</th>\n",
       "      <th>2002</th>\n",
       "      <th>2003</th>\n",
       "      <th>2004</th>\n",
       "      <th>2005</th>\n",
       "      <th>2006</th>\n",
       "      <th>2007</th>\n",
       "      <th>2008</th>\n",
       "      <th>2009</th>\n",
       "      <th>2010</th>\n",
       "      <th>2011</th>\n",
       "      <th>2012</th>\n",
       "      <th>2013</th>\n",
       "      <th>2014</th>\n",
       "      <th>2015</th>\n",
       "    </tr>\n",
       "  </thead>\n",
       "  <tbody>\n",
       "    <tr>\n",
       "      <th>0</th>\n",
       "      <td>4</td>\n",
       "      <td>Afghanistan</td>\n",
       "      <td>169.965223</td>\n",
       "      <td>167.562700</td>\n",
       "      <td>189.602842</td>\n",
       "      <td>208.419269</td>\n",
       "      <td>225.949589</td>\n",
       "      <td>258.118123</td>\n",
       "      <td>284.275252</td>\n",
       "      <td>383.024352</td>\n",
       "      <td>388.441431</td>\n",
       "      <td>442.777986</td>\n",
       "      <td>550.887159</td>\n",
       "      <td>636.524381</td>\n",
       "      <td>684.529292</td>\n",
       "      <td>669.682072</td>\n",
       "      <td>639.201474</td>\n",
       "      <td>598.835602</td>\n",
       "    </tr>\n",
       "    <tr>\n",
       "      <th>1</th>\n",
       "      <td>8</td>\n",
       "      <td>Albania</td>\n",
       "      <td>1114.514374</td>\n",
       "      <td>1254.715333</td>\n",
       "      <td>1393.347835</td>\n",
       "      <td>1783.649274</td>\n",
       "      <td>2311.523352</td>\n",
       "      <td>2608.543874</td>\n",
       "      <td>2904.347050</td>\n",
       "      <td>3519.225201</td>\n",
       "      <td>4289.954520</td>\n",
       "      <td>4051.132168</td>\n",
       "      <td>4045.744651</td>\n",
       "      <td>4401.730703</td>\n",
       "      <td>4227.650566</td>\n",
       "      <td>4399.863881</td>\n",
       "      <td>4567.281443</td>\n",
       "      <td>3939.413126</td>\n",
       "    </tr>\n",
       "    <tr>\n",
       "      <th>2</th>\n",
       "      <td>12</td>\n",
       "      <td>Algeria</td>\n",
       "      <td>1761.048998</td>\n",
       "      <td>1750.527274</td>\n",
       "      <td>1783.676549</td>\n",
       "      <td>2103.382141</td>\n",
       "      <td>2610.182686</td>\n",
       "      <td>3113.094277</td>\n",
       "      <td>3478.709639</td>\n",
       "      <td>3950.513625</td>\n",
       "      <td>4923.630825</td>\n",
       "      <td>3883.270236</td>\n",
       "      <td>4480.786786</td>\n",
       "      <td>5455.843408</td>\n",
       "      <td>5592.223152</td>\n",
       "      <td>5499.587619</td>\n",
       "      <td>5493.054962</td>\n",
       "      <td>4177.884983</td>\n",
       "    </tr>\n",
       "    <tr>\n",
       "      <th>3</th>\n",
       "      <td>20</td>\n",
       "      <td>Andorra</td>\n",
       "      <td>21936.513259</td>\n",
       "      <td>22228.647579</td>\n",
       "      <td>24742.619011</td>\n",
       "      <td>32775.178366</td>\n",
       "      <td>38505.180605</td>\n",
       "      <td>41281.031203</td>\n",
       "      <td>43745.378087</td>\n",
       "      <td>48579.786989</td>\n",
       "      <td>47786.775564</td>\n",
       "      <td>43336.180582</td>\n",
       "      <td>39733.967950</td>\n",
       "      <td>41103.236749</td>\n",
       "      <td>38393.295393</td>\n",
       "      <td>40628.969874</td>\n",
       "      <td>42298.666090</td>\n",
       "      <td>36041.256851</td>\n",
       "    </tr>\n",
       "    <tr>\n",
       "      <th>4</th>\n",
       "      <td>24</td>\n",
       "      <td>Angola</td>\n",
       "      <td>744.556413</td>\n",
       "      <td>705.108899</td>\n",
       "      <td>872.494358</td>\n",
       "      <td>982.960862</td>\n",
       "      <td>1255.563695</td>\n",
       "      <td>1902.420255</td>\n",
       "      <td>2599.567368</td>\n",
       "      <td>3121.993897</td>\n",
       "      <td>4080.943884</td>\n",
       "      <td>3122.782079</td>\n",
       "      <td>3587.883041</td>\n",
       "      <td>4615.470485</td>\n",
       "      <td>5100.098190</td>\n",
       "      <td>5254.883253</td>\n",
       "      <td>5408.409568</td>\n",
       "      <td>4166.979626</td>\n",
       "    </tr>\n",
       "  </tbody>\n",
       "</table>\n",
       "</div>"
      ],
      "text/plain": [
       "   CountryID      Country          2000          2001          2002  \\\n",
       "0          4  Afghanistan    169.965223    167.562700    189.602842   \n",
       "1          8      Albania   1114.514374   1254.715333   1393.347835   \n",
       "2         12      Algeria   1761.048998   1750.527274   1783.676549   \n",
       "3         20      Andorra  21936.513259  22228.647579  24742.619011   \n",
       "4         24       Angola    744.556413    705.108899    872.494358   \n",
       "\n",
       "           2003          2004          2005          2006          2007  \\\n",
       "0    208.419269    225.949589    258.118123    284.275252    383.024352   \n",
       "1   1783.649274   2311.523352   2608.543874   2904.347050   3519.225201   \n",
       "2   2103.382141   2610.182686   3113.094277   3478.709639   3950.513625   \n",
       "3  32775.178366  38505.180605  41281.031203  43745.378087  48579.786989   \n",
       "4    982.960862   1255.563695   1902.420255   2599.567368   3121.993897   \n",
       "\n",
       "           2008          2009          2010          2011          2012  \\\n",
       "0    388.441431    442.777986    550.887159    636.524381    684.529292   \n",
       "1   4289.954520   4051.132168   4045.744651   4401.730703   4227.650566   \n",
       "2   4923.630825   3883.270236   4480.786786   5455.843408   5592.223152   \n",
       "3  47786.775564  43336.180582  39733.967950  41103.236749  38393.295393   \n",
       "4   4080.943884   3122.782079   3587.883041   4615.470485   5100.098190   \n",
       "\n",
       "           2013          2014          2015  \n",
       "0    669.682072    639.201474    598.835602  \n",
       "1   4399.863881   4567.281443   3939.413126  \n",
       "2   5499.587619   5493.054962   4177.884983  \n",
       "3  40628.969874  42298.666090  36041.256851  \n",
       "4   5254.883253   5408.409568   4166.979626  "
      ]
     },
     "execution_count": 984,
     "metadata": {},
     "output_type": "execute_result"
    }
   ],
   "source": [
    "# read in gdp data from UN website \n",
    "gdp = pd.read_excel('Download-GDPPC-USD-countries.xlsx', header = 2)\n",
    "gdp.head()"
   ]
  },
  {
   "cell_type": "code",
   "execution_count": 985,
   "metadata": {},
   "outputs": [],
   "source": [
    "# subset data set by years\n",
    "subset = ['Country', 2000, 2001, 2002, 2003, 2004, 2005, 2006, 2007, 2008,\n",
    "          2009, 2010, 2011, 2012, 2013, 2014, 2015]\n",
    "gdp = gdp[subset]"
   ]
  },
  {
   "cell_type": "code",
   "execution_count": 986,
   "metadata": {},
   "outputs": [],
   "source": [
    "# return dataframe only with countries below\n",
    "countries = ['Bahamas', 'Bolivia (Plurinational State of)', 'Congo', \"Côte d'Ivoire\", \n",
    "             'Czechia', 'D.P.R. of Korea', 'D.R. of the Congo', 'Egypt', 'Eritrea', 'Gambia', \n",
    "             'Iran (Islamic Republic of)', 'Iraq', 'Kyrgyzstan', \"Lao People's DR\", 'Libya', \n",
    "             'Micronesia (FS of)', 'North Macedonia', 'Papua New Guinea', 'Republic of Korea', \n",
    "             'Republic of Moldova', 'Saint Lucia', 'Sao Tome and Principe', 'Slovakia', \n",
    "             'Somalia', 'South Sudan', 'St. Vincent and the Grenadines','Syrian Arab Republic',\n",
    "             'U.R. of Tanzania: Mainland', 'United Kingdom', 'United States', 'Venezuela (Bolivarian Republic of)', \n",
    "             'Viet Nam', 'Yemen']\n",
    "\n",
    "gdp = gdp[gdp.Country.isin(countries)]"
   ]
  },
  {
   "cell_type": "code",
   "execution_count": 987,
   "metadata": {},
   "outputs": [],
   "source": [
    "# original names of countries\n",
    "original = ['Bahamas','Bolivia (Plurinational State of)','Congo', \"Côte d'Ivoire\",\n",
    "            'Czechia', \"Democratic People's Republic of Korea\", 'Democratic Republic of the Congo', 'Egypt',\n",
    "            'Eritrea', 'Gambia', 'Iran (Islamic Republic of)', 'Iraq', 'Kyrgyzstan', \n",
    "            \"Lao People's Democratic Republic\", 'Libya', 'Micronesia (Federated States of)', \n",
    "            'The former Yugoslav republic of Macedonia', 'Papua New Guinea', 'Republic of Korea',\n",
    "            'Republic of Moldova','Saint Lucia','Sao Tome and Principe', 'Slovakia','Somalia', 'South Sudan',\n",
    "            'Saint Vincent and the Grenadines', 'Syrian Arab Republic','United Republic of Tanzania', \n",
    "            'United Kingdom of Great Britain and Northern Ireland', 'United States of America',\n",
    "            'Venezuela (Bolivarian Republic of)','Viet Nam','Yemen']"
   ]
  },
  {
   "cell_type": "code",
   "execution_count": 988,
   "metadata": {},
   "outputs": [],
   "source": [
    "# make dictionary from countries and original\n",
    "rename = {}\n",
    "for x, y in zip(countries, original):\n",
    "    rename[x] = y"
   ]
  },
  {
   "cell_type": "code",
   "execution_count": 989,
   "metadata": {},
   "outputs": [],
   "source": [
    "# set index to country and transpose so that countries are now columns\n",
    "gdp = gdp.set_index('Country').T"
   ]
  },
  {
   "cell_type": "code",
   "execution_count": 990,
   "metadata": {},
   "outputs": [],
   "source": [
    "# rename country names in gdp dataframe to match names in orinal dataframe\n",
    "gdp.rename(rename, axis = 1, inplace = True)"
   ]
  },
  {
   "cell_type": "code",
   "execution_count": 991,
   "metadata": {},
   "outputs": [],
   "source": [
    "# reverse the transpose, to return country to index\n",
    "gdp = gdp.T"
   ]
  },
  {
   "cell_type": "code",
   "execution_count": 992,
   "metadata": {
    "scrolled": false
   },
   "outputs": [],
   "source": [
    "# stack gdp so that it is multi-index data frame Country > Year, then reset index so dataframe matches origal\n",
    "gdp = pd.DataFrame(gdp.stack()).reset_index()"
   ]
  },
  {
   "cell_type": "code",
   "execution_count": 993,
   "metadata": {
    "scrolled": true
   },
   "outputs": [
    {
     "data": {
      "text/html": [
       "<div>\n",
       "<style scoped>\n",
       "    .dataframe tbody tr th:only-of-type {\n",
       "        vertical-align: middle;\n",
       "    }\n",
       "\n",
       "    .dataframe tbody tr th {\n",
       "        vertical-align: top;\n",
       "    }\n",
       "\n",
       "    .dataframe thead th {\n",
       "        text-align: right;\n",
       "    }\n",
       "</style>\n",
       "<table border=\"1\" class=\"dataframe\">\n",
       "  <thead>\n",
       "    <tr style=\"text-align: right;\">\n",
       "      <th></th>\n",
       "      <th>country</th>\n",
       "      <th>year</th>\n",
       "      <th>gdp</th>\n",
       "    </tr>\n",
       "  </thead>\n",
       "  <tbody>\n",
       "    <tr>\n",
       "      <th>0</th>\n",
       "      <td>Bahamas</td>\n",
       "      <td>2000</td>\n",
       "      <td>27097.711465</td>\n",
       "    </tr>\n",
       "    <tr>\n",
       "      <th>1</th>\n",
       "      <td>Bahamas</td>\n",
       "      <td>2001</td>\n",
       "      <td>27486.137639</td>\n",
       "    </tr>\n",
       "    <tr>\n",
       "      <th>2</th>\n",
       "      <td>Bahamas</td>\n",
       "      <td>2002</td>\n",
       "      <td>28866.931028</td>\n",
       "    </tr>\n",
       "    <tr>\n",
       "      <th>3</th>\n",
       "      <td>Bahamas</td>\n",
       "      <td>2003</td>\n",
       "      <td>28327.302805</td>\n",
       "    </tr>\n",
       "    <tr>\n",
       "      <th>4</th>\n",
       "      <td>Bahamas</td>\n",
       "      <td>2004</td>\n",
       "      <td>28395.956023</td>\n",
       "    </tr>\n",
       "  </tbody>\n",
       "</table>\n",
       "</div>"
      ],
      "text/plain": [
       "   country  year           gdp\n",
       "0  Bahamas  2000  27097.711465\n",
       "1  Bahamas  2001  27486.137639\n",
       "2  Bahamas  2002  28866.931028\n",
       "3  Bahamas  2003  28327.302805\n",
       "4  Bahamas  2004  28395.956023"
      ]
     },
     "execution_count": 993,
     "metadata": {},
     "output_type": "execute_result"
    }
   ],
   "source": [
    "# rename columns to match with original dataframe\n",
    "gdp.rename({'Country':'country', 'level_1':'year', 0: 'gdp'}, axis = 1, inplace = True)\n",
    "gdp.head()"
   ]
  },
  {
   "cell_type": "code",
   "execution_count": 994,
   "metadata": {},
   "outputs": [],
   "source": [
    "# merge both data sets together\n",
    "df = df.merge(gdp, how = 'left', on = ['country', 'year'])"
   ]
  },
  {
   "cell_type": "code",
   "execution_count": 995,
   "metadata": {},
   "outputs": [],
   "source": [
    "# replace nan values in original gdp with values in new gdp column\n",
    "df['gdp_x'] = np.where(df['gdp_x'].isnull(), df['gdp_y'], df['gdp_x'])"
   ]
  },
  {
   "cell_type": "code",
   "execution_count": 996,
   "metadata": {},
   "outputs": [],
   "source": [
    "# drop added column and rename original column back to original name\n",
    "df.drop('gdp_y', axis = 1, inplace = True)\n",
    "df.rename({'gdp_x':'gdp'}, axis = 1, inplace = True)"
   ]
  },
  {
   "cell_type": "code",
   "execution_count": 997,
   "metadata": {},
   "outputs": [],
   "source": [
    "# south sudan is still missing values so just take the median of filled data to fill NaNs\n",
    "s_sudan_gdp = df.groupby('country').median().loc[['South Sudan']].gdp[0]\n",
    "df.loc[2408:2415, 'gdp'] = s_sudan_gdp"
   ]
  },
  {
   "cell_type": "code",
   "execution_count": 998,
   "metadata": {},
   "outputs": [
    {
     "data": {
      "text/plain": [
       "0"
      ]
     },
     "execution_count": 998,
     "metadata": {},
     "output_type": "execute_result"
    }
   ],
   "source": [
    "df.gdp.isnull().sum()"
   ]
  },
  {
   "cell_type": "markdown",
   "metadata": {},
   "source": [
    "## Fill in Population ##"
   ]
  },
  {
   "cell_type": "code",
   "execution_count": 999,
   "metadata": {},
   "outputs": [],
   "source": [
    "# create list of countries that have null values for population\n",
    "og_nopop = list(df[df.population.isnull()].country.unique())"
   ]
  },
  {
   "cell_type": "code",
   "execution_count": 1000,
   "metadata": {},
   "outputs": [
    {
     "data": {
      "text/html": [
       "<div>\n",
       "<style scoped>\n",
       "    .dataframe tbody tr th:only-of-type {\n",
       "        vertical-align: middle;\n",
       "    }\n",
       "\n",
       "    .dataframe tbody tr th {\n",
       "        vertical-align: top;\n",
       "    }\n",
       "\n",
       "    .dataframe thead th {\n",
       "        text-align: right;\n",
       "    }\n",
       "</style>\n",
       "<table border=\"1\" class=\"dataframe\">\n",
       "  <thead>\n",
       "    <tr style=\"text-align: right;\">\n",
       "      <th></th>\n",
       "      <th>Country or Area</th>\n",
       "      <th>Year(s)</th>\n",
       "      <th>Variant</th>\n",
       "      <th>Value</th>\n",
       "    </tr>\n",
       "  </thead>\n",
       "  <tbody>\n",
       "    <tr>\n",
       "      <th>0</th>\n",
       "      <td>Antigua and Barbuda</td>\n",
       "      <td>2015</td>\n",
       "      <td>Medium</td>\n",
       "      <td>93.566</td>\n",
       "    </tr>\n",
       "    <tr>\n",
       "      <th>1</th>\n",
       "      <td>Antigua and Barbuda</td>\n",
       "      <td>2015</td>\n",
       "      <td>High</td>\n",
       "      <td>93.566</td>\n",
       "    </tr>\n",
       "    <tr>\n",
       "      <th>2</th>\n",
       "      <td>Antigua and Barbuda</td>\n",
       "      <td>2015</td>\n",
       "      <td>Low</td>\n",
       "      <td>93.566</td>\n",
       "    </tr>\n",
       "    <tr>\n",
       "      <th>3</th>\n",
       "      <td>Antigua and Barbuda</td>\n",
       "      <td>2015</td>\n",
       "      <td>Constant fertility</td>\n",
       "      <td>93.566</td>\n",
       "    </tr>\n",
       "    <tr>\n",
       "      <th>4</th>\n",
       "      <td>Antigua and Barbuda</td>\n",
       "      <td>2015</td>\n",
       "      <td>Instant replacement</td>\n",
       "      <td>93.566</td>\n",
       "    </tr>\n",
       "  </tbody>\n",
       "</table>\n",
       "</div>"
      ],
      "text/plain": [
       "       Country or Area  Year(s)              Variant   Value\n",
       "0  Antigua and Barbuda     2015               Medium  93.566\n",
       "1  Antigua and Barbuda     2015                 High  93.566\n",
       "2  Antigua and Barbuda     2015                  Low  93.566\n",
       "3  Antigua and Barbuda     2015   Constant fertility  93.566\n",
       "4  Antigua and Barbuda     2015  Instant replacement  93.566"
      ]
     },
     "execution_count": 1000,
     "metadata": {},
     "output_type": "execute_result"
    }
   ],
   "source": [
    "# read in UN population data\n",
    "pops = pd.read_csv('UN_pop_data.csv')\n",
    "pops.head()"
   ]
  },
  {
   "cell_type": "code",
   "execution_count": 1001,
   "metadata": {},
   "outputs": [],
   "source": [
    "# clean up pops data set\n",
    "pops.rename({'Country or Area': 'country', 'Year(s)': 'year', 'Value' : 'population'}, \n",
    "            axis = 1, inplace = True)"
   ]
  },
  {
   "cell_type": "code",
   "execution_count": 1002,
   "metadata": {},
   "outputs": [
    {
     "data": {
      "text/html": [
       "<div>\n",
       "<style scoped>\n",
       "    .dataframe tbody tr th:only-of-type {\n",
       "        vertical-align: middle;\n",
       "    }\n",
       "\n",
       "    .dataframe tbody tr th {\n",
       "        vertical-align: top;\n",
       "    }\n",
       "\n",
       "    .dataframe thead tr th {\n",
       "        text-align: left;\n",
       "    }\n",
       "\n",
       "    .dataframe thead tr:last-of-type th {\n",
       "        text-align: right;\n",
       "    }\n",
       "</style>\n",
       "<table border=\"1\" class=\"dataframe\">\n",
       "  <thead>\n",
       "    <tr>\n",
       "      <th></th>\n",
       "      <th colspan=\"8\" halign=\"left\">population</th>\n",
       "    </tr>\n",
       "    <tr>\n",
       "      <th></th>\n",
       "      <th>count</th>\n",
       "      <th>mean</th>\n",
       "      <th>std</th>\n",
       "      <th>min</th>\n",
       "      <th>25%</th>\n",
       "      <th>50%</th>\n",
       "      <th>75%</th>\n",
       "      <th>max</th>\n",
       "    </tr>\n",
       "    <tr>\n",
       "      <th>year</th>\n",
       "      <th></th>\n",
       "      <th></th>\n",
       "      <th></th>\n",
       "      <th></th>\n",
       "      <th></th>\n",
       "      <th></th>\n",
       "      <th></th>\n",
       "      <th></th>\n",
       "    </tr>\n",
       "  </thead>\n",
       "  <tbody>\n",
       "    <tr>\n",
       "      <th>2000</th>\n",
       "      <td>9.0</td>\n",
       "      <td>3134.062</td>\n",
       "      <td>0.000000e+00</td>\n",
       "      <td>3134.062</td>\n",
       "      <td>3134.062</td>\n",
       "      <td>3134.062</td>\n",
       "      <td>3134.062</td>\n",
       "      <td>3134.062</td>\n",
       "    </tr>\n",
       "    <tr>\n",
       "      <th>2001</th>\n",
       "      <td>9.0</td>\n",
       "      <td>3302.719</td>\n",
       "      <td>4.823324e-13</td>\n",
       "      <td>3302.719</td>\n",
       "      <td>3302.719</td>\n",
       "      <td>3302.719</td>\n",
       "      <td>3302.719</td>\n",
       "      <td>3302.719</td>\n",
       "    </tr>\n",
       "    <tr>\n",
       "      <th>2002</th>\n",
       "      <td>9.0</td>\n",
       "      <td>3478.777</td>\n",
       "      <td>9.646648e-13</td>\n",
       "      <td>3478.777</td>\n",
       "      <td>3478.777</td>\n",
       "      <td>3478.777</td>\n",
       "      <td>3478.777</td>\n",
       "      <td>3478.777</td>\n",
       "    </tr>\n",
       "    <tr>\n",
       "      <th>2003</th>\n",
       "      <td>9.0</td>\n",
       "      <td>3711.932</td>\n",
       "      <td>4.823324e-13</td>\n",
       "      <td>3711.932</td>\n",
       "      <td>3711.932</td>\n",
       "      <td>3711.932</td>\n",
       "      <td>3711.932</td>\n",
       "      <td>3711.932</td>\n",
       "    </tr>\n",
       "    <tr>\n",
       "      <th>2004</th>\n",
       "      <td>9.0</td>\n",
       "      <td>4068.570</td>\n",
       "      <td>4.823324e-13</td>\n",
       "      <td>4068.570</td>\n",
       "      <td>4068.570</td>\n",
       "      <td>4068.570</td>\n",
       "      <td>4068.570</td>\n",
       "      <td>4068.570</td>\n",
       "    </tr>\n",
       "    <tr>\n",
       "      <th>2005</th>\n",
       "      <td>9.0</td>\n",
       "      <td>4588.225</td>\n",
       "      <td>9.646648e-13</td>\n",
       "      <td>4588.225</td>\n",
       "      <td>4588.225</td>\n",
       "      <td>4588.225</td>\n",
       "      <td>4588.225</td>\n",
       "      <td>4588.225</td>\n",
       "    </tr>\n",
       "    <tr>\n",
       "      <th>2006</th>\n",
       "      <td>9.0</td>\n",
       "      <td>5300.174</td>\n",
       "      <td>0.000000e+00</td>\n",
       "      <td>5300.174</td>\n",
       "      <td>5300.174</td>\n",
       "      <td>5300.174</td>\n",
       "      <td>5300.174</td>\n",
       "      <td>5300.174</td>\n",
       "    </tr>\n",
       "    <tr>\n",
       "      <th>2007</th>\n",
       "      <td>9.0</td>\n",
       "      <td>6168.838</td>\n",
       "      <td>9.646648e-13</td>\n",
       "      <td>6168.838</td>\n",
       "      <td>6168.838</td>\n",
       "      <td>6168.838</td>\n",
       "      <td>6168.838</td>\n",
       "      <td>6168.838</td>\n",
       "    </tr>\n",
       "    <tr>\n",
       "      <th>2008</th>\n",
       "      <td>9.0</td>\n",
       "      <td>7089.487</td>\n",
       "      <td>9.646648e-13</td>\n",
       "      <td>7089.487</td>\n",
       "      <td>7089.487</td>\n",
       "      <td>7089.487</td>\n",
       "      <td>7089.487</td>\n",
       "      <td>7089.487</td>\n",
       "    </tr>\n",
       "    <tr>\n",
       "      <th>2009</th>\n",
       "      <td>9.0</td>\n",
       "      <td>7917.372</td>\n",
       "      <td>1.929330e-12</td>\n",
       "      <td>7917.372</td>\n",
       "      <td>7917.372</td>\n",
       "      <td>7917.372</td>\n",
       "      <td>7917.372</td>\n",
       "      <td>7917.372</td>\n",
       "    </tr>\n",
       "    <tr>\n",
       "      <th>2010</th>\n",
       "      <td>9.0</td>\n",
       "      <td>8549.988</td>\n",
       "      <td>1.929330e-12</td>\n",
       "      <td>8549.988</td>\n",
       "      <td>8549.988</td>\n",
       "      <td>8549.988</td>\n",
       "      <td>8549.988</td>\n",
       "      <td>8549.988</td>\n",
       "    </tr>\n",
       "    <tr>\n",
       "      <th>2011</th>\n",
       "      <td>9.0</td>\n",
       "      <td>8946.777</td>\n",
       "      <td>0.000000e+00</td>\n",
       "      <td>8946.777</td>\n",
       "      <td>8946.777</td>\n",
       "      <td>8946.777</td>\n",
       "      <td>8946.777</td>\n",
       "      <td>8946.777</td>\n",
       "    </tr>\n",
       "    <tr>\n",
       "      <th>2012</th>\n",
       "      <td>9.0</td>\n",
       "      <td>9141.596</td>\n",
       "      <td>0.000000e+00</td>\n",
       "      <td>9141.596</td>\n",
       "      <td>9141.596</td>\n",
       "      <td>9141.596</td>\n",
       "      <td>9141.596</td>\n",
       "      <td>9141.596</td>\n",
       "    </tr>\n",
       "    <tr>\n",
       "      <th>2013</th>\n",
       "      <td>9.0</td>\n",
       "      <td>9197.910</td>\n",
       "      <td>1.929330e-12</td>\n",
       "      <td>9197.910</td>\n",
       "      <td>9197.910</td>\n",
       "      <td>9197.910</td>\n",
       "      <td>9197.910</td>\n",
       "      <td>9197.910</td>\n",
       "    </tr>\n",
       "    <tr>\n",
       "      <th>2014</th>\n",
       "      <td>9.0</td>\n",
       "      <td>9214.175</td>\n",
       "      <td>1.929330e-12</td>\n",
       "      <td>9214.175</td>\n",
       "      <td>9214.175</td>\n",
       "      <td>9214.175</td>\n",
       "      <td>9214.175</td>\n",
       "      <td>9214.175</td>\n",
       "    </tr>\n",
       "    <tr>\n",
       "      <th>2015</th>\n",
       "      <td>9.0</td>\n",
       "      <td>9262.900</td>\n",
       "      <td>0.000000e+00</td>\n",
       "      <td>9262.900</td>\n",
       "      <td>9262.900</td>\n",
       "      <td>9262.900</td>\n",
       "      <td>9262.900</td>\n",
       "      <td>9262.900</td>\n",
       "    </tr>\n",
       "  </tbody>\n",
       "</table>\n",
       "</div>"
      ],
      "text/plain": [
       "     population                                                        \\\n",
       "          count      mean           std       min       25%       50%   \n",
       "year                                                                    \n",
       "2000        9.0  3134.062  0.000000e+00  3134.062  3134.062  3134.062   \n",
       "2001        9.0  3302.719  4.823324e-13  3302.719  3302.719  3302.719   \n",
       "2002        9.0  3478.777  9.646648e-13  3478.777  3478.777  3478.777   \n",
       "2003        9.0  3711.932  4.823324e-13  3711.932  3711.932  3711.932   \n",
       "2004        9.0  4068.570  4.823324e-13  4068.570  4068.570  4068.570   \n",
       "2005        9.0  4588.225  9.646648e-13  4588.225  4588.225  4588.225   \n",
       "2006        9.0  5300.174  0.000000e+00  5300.174  5300.174  5300.174   \n",
       "2007        9.0  6168.838  9.646648e-13  6168.838  6168.838  6168.838   \n",
       "2008        9.0  7089.487  9.646648e-13  7089.487  7089.487  7089.487   \n",
       "2009        9.0  7917.372  1.929330e-12  7917.372  7917.372  7917.372   \n",
       "2010        9.0  8549.988  1.929330e-12  8549.988  8549.988  8549.988   \n",
       "2011        9.0  8946.777  0.000000e+00  8946.777  8946.777  8946.777   \n",
       "2012        9.0  9141.596  0.000000e+00  9141.596  9141.596  9141.596   \n",
       "2013        9.0  9197.910  1.929330e-12  9197.910  9197.910  9197.910   \n",
       "2014        9.0  9214.175  1.929330e-12  9214.175  9214.175  9214.175   \n",
       "2015        9.0  9262.900  0.000000e+00  9262.900  9262.900  9262.900   \n",
       "\n",
       "                          \n",
       "           75%       max  \n",
       "year                      \n",
       "2000  3134.062  3134.062  \n",
       "2001  3302.719  3302.719  \n",
       "2002  3478.777  3478.777  \n",
       "2003  3711.932  3711.932  \n",
       "2004  4068.570  4068.570  \n",
       "2005  4588.225  4588.225  \n",
       "2006  5300.174  5300.174  \n",
       "2007  6168.838  6168.838  \n",
       "2008  7089.487  7089.487  \n",
       "2009  7917.372  7917.372  \n",
       "2010  8549.988  8549.988  \n",
       "2011  8946.777  8946.777  \n",
       "2012  9141.596  9141.596  \n",
       "2013  9197.910  9197.910  \n",
       "2014  9214.175  9214.175  \n",
       "2015  9262.900  9262.900  "
      ]
     },
     "execution_count": 1002,
     "metadata": {},
     "output_type": "execute_result"
    }
   ],
   "source": [
    "# population is the same across all Variant levels, so only need one variant level to get population per year\n",
    "pops[pops.country == 'United Arab Emirates'].groupby('year').describe()"
   ]
  },
  {
   "cell_type": "code",
   "execution_count": 1003,
   "metadata": {},
   "outputs": [],
   "source": [
    "# make dataframe smaller by just returning one value of Variant, then drop variant column\n",
    "pops = pops[pops.Variant == 'High']\n",
    "pops.drop(['Variant'], axis = 1, inplace = True)"
   ]
  },
  {
   "cell_type": "code",
   "execution_count": 1004,
   "metadata": {},
   "outputs": [],
   "source": [
    "pops = pops.set_index('country').T"
   ]
  },
  {
   "cell_type": "code",
   "execution_count": 1005,
   "metadata": {},
   "outputs": [],
   "source": [
    "pops.rename({\"Dem. People's Republic of Korea\":\"Democratic People's Republic of Korea\",\n",
    "            'Micronesia (Fed. States of)':'Micronesia (Federated States of)',\n",
    "            'North Macedonia':'The former Yugoslav republic of Macedonia',\n",
    "            'United Kingdom':'United Kingdom of Great Britain and Northern Ireland'},\n",
    "           axis = 1, inplace = True)"
   ]
  },
  {
   "cell_type": "code",
   "execution_count": 1006,
   "metadata": {},
   "outputs": [],
   "source": [
    "# undo transpose and reset index\n",
    "pops = pops.T.reset_index()"
   ]
  },
  {
   "cell_type": "code",
   "execution_count": 1007,
   "metadata": {},
   "outputs": [],
   "source": [
    "# turn year to integer dtype\n",
    "pops.year = pops.year.astype('int')"
   ]
  },
  {
   "cell_type": "code",
   "execution_count": 1008,
   "metadata": {},
   "outputs": [],
   "source": [
    "# scale population data appropriately\n",
    "pops['population1000'] = pops.population * 1000"
   ]
  },
  {
   "cell_type": "code",
   "execution_count": 1009,
   "metadata": {},
   "outputs": [],
   "source": [
    "# drop original population column and rename population1000 column\n",
    "pops.drop('population', axis = 1, inplace = True)\n",
    "pops.rename({'population1000':'population'}, axis = 1, inplace = True)"
   ]
  },
  {
   "cell_type": "code",
   "execution_count": 1010,
   "metadata": {},
   "outputs": [],
   "source": [
    "# merge pops column with original dataframe\n",
    "df = df.merge(pops, how = 'left', on = ['country', 'year'])"
   ]
  },
  {
   "cell_type": "code",
   "execution_count": 1011,
   "metadata": {},
   "outputs": [],
   "source": [
    "# replace nan values in original gdp with values in new gdp column\n",
    "df['population_x'] = np.where(df['population_x'].isnull(), df['population_y'], \n",
    "                              df['population_x'])\n",
    "\n",
    "# drop added column and rename original column back to original name\n",
    "df.drop('population_y', axis = 1, inplace = True)\n",
    "df.rename({'population_x':'population'}, axis = 1, inplace = True)"
   ]
  },
  {
   "cell_type": "code",
   "execution_count": 1012,
   "metadata": {
    "scrolled": false
   },
   "outputs": [
    {
     "data": {
      "text/plain": [
       "0"
      ]
     },
     "execution_count": 1012,
     "metadata": {},
     "output_type": "execute_result"
    }
   ],
   "source": [
    "df.population.isnull().sum()"
   ]
  },
  {
   "cell_type": "markdown",
   "metadata": {},
   "source": [
    "## Fill income_composition and Schooling ##"
   ]
  },
  {
   "cell_type": "code",
   "execution_count": 1013,
   "metadata": {
    "scrolled": true
   },
   "outputs": [
    {
     "data": {
      "text/plain": [
       "[\"Côte d'Ivoire\",\n",
       " 'Czechia',\n",
       " \"Democratic People's Republic of Korea\",\n",
       " 'Democratic Republic of the Congo',\n",
       " 'Republic of Korea',\n",
       " 'Republic of Moldova',\n",
       " 'Somalia',\n",
       " 'United Kingdom of Great Britain and Northern Ireland',\n",
       " 'United Republic of Tanzania',\n",
       " 'United States of America']"
      ]
     },
     "execution_count": 1013,
     "metadata": {},
     "output_type": "execute_result"
    }
   ],
   "source": [
    "list(df[df.income_composition_of_resources.isnull()].country.unique())"
   ]
  },
  {
   "cell_type": "code",
   "execution_count": 1014,
   "metadata": {
    "scrolled": true
   },
   "outputs": [
    {
     "data": {
      "text/plain": [
       "[\"Côte d'Ivoire\",\n",
       " 'Czechia',\n",
       " \"Democratic People's Republic of Korea\",\n",
       " 'Democratic Republic of the Congo',\n",
       " 'Republic of Korea',\n",
       " 'Republic of Moldova',\n",
       " 'Somalia',\n",
       " 'United Kingdom of Great Britain and Northern Ireland',\n",
       " 'United Republic of Tanzania',\n",
       " 'United States of America']"
      ]
     },
     "execution_count": 1014,
     "metadata": {},
     "output_type": "execute_result"
    }
   ],
   "source": [
    "list(df[df.schooling.isnull()].country.unique())"
   ]
  },
  {
   "cell_type": "code",
   "execution_count": 1015,
   "metadata": {},
   "outputs": [],
   "source": [
    "# edit schooling data for merging with original df\n",
    "schooling = pd.read_csv('schooling.csv', encoding = \"ISO-8859-1\")\n",
    "schooling.set_index('Country', inplace = True)\n",
    "schooling = schooling.T\n",
    "schooling.rename({\"Cte d'Ivoire\":\"Côte d'Ivoire\"}, axis = 1, inplace = True)\n",
    "schooling = schooling.T\n",
    "schooling = pd.DataFrame(schooling.stack()).reset_index()\n",
    "schooling.rename({'Country': 'country','level_1' : 'year', 0:'schooling'}, axis = 1, inplace = True)"
   ]
  },
  {
   "cell_type": "code",
   "execution_count": 1016,
   "metadata": {},
   "outputs": [],
   "source": [
    "# edit hdi data for merging with original df\n",
    "hdi = pd.read_csv('HDI.csv', encoding = \"ISO-8859-1\")\n",
    "hdi.set_index('Country', inplace = True)\n",
    "hdi = hdi.T\n",
    "hdi.rename({\"Cte d'Ivoire\":\"Côte d'Ivoire\"}, axis = 1, inplace = True)\n",
    "hdi = hdi.T\n",
    "hdi = pd.DataFrame(hdi.stack()).reset_index()\n",
    "hdi.rename({'Country': 'country','level_1' : 'year', 0:'income_composition_of_resources'}, axis = 1, inplace = True)"
   ]
  },
  {
   "cell_type": "code",
   "execution_count": 1017,
   "metadata": {},
   "outputs": [],
   "source": [
    "# change dtype of year to int\n",
    "schooling.year = schooling.year.astype(int)\n",
    "hdi.year = hdi.year.astype(int)"
   ]
  },
  {
   "cell_type": "code",
   "execution_count": 1018,
   "metadata": {},
   "outputs": [],
   "source": [
    "# remove north korea value since it is only one\n",
    "schooling = schooling[schooling.country != \"Democratic People's Republic of Korea\"]"
   ]
  },
  {
   "cell_type": "code",
   "execution_count": 1019,
   "metadata": {},
   "outputs": [],
   "source": [
    "# merge schooling and hdi df together\n",
    "hdi = hdi.merge(schooling, how = 'left', on = ['country', 'year'])\n",
    "# merge replacement df onto original\n",
    "df = df.merge(hdi, how = 'left', on = ['country', 'year'])"
   ]
  },
  {
   "cell_type": "code",
   "execution_count": 1021,
   "metadata": {},
   "outputs": [],
   "source": [
    "# replace nan values in original income_comp with values in new income_comp column\n",
    "df['income_composition_of_resources_x'] = np.where(df['income_composition_of_resources_x'].isnull(), \n",
    "                                                   df['income_composition_of_resources_y'], \n",
    "                                                   df['income_composition_of_resources_x'])\n",
    "\n",
    "# drop added column and rename original column back to original name\n",
    "df.drop('income_composition_of_resources_y', axis = 1, inplace = True)\n",
    "df.rename({'income_composition_of_resources_x':'income_composition_of_resources'}, axis = 1, inplace = True)\n",
    "\n",
    "# replace nan values in original schooling with values in new schooling column\n",
    "df['schooling_x'] = np.where(df['schooling_x'].isnull(), df['schooling_y'], \n",
    "                             df['schooling_x'])\n",
    "\n",
    "# drop added column and rename original column back to original name\n",
    "df.drop('schooling_y', axis = 1, inplace = True)\n",
    "df.rename({'schooling_x':'schooling'}, axis = 1, inplace = True)"
   ]
  },
  {
   "cell_type": "code",
   "execution_count": 1041,
   "metadata": {},
   "outputs": [],
   "source": [
    "# only missing data left is for North Korea and Somalia, we'll impute the median income_comp and schooling of\n",
    "# developing countries\n",
    "inccomp_median = dict(df[df.status == 'Developing'].groupby('year')['income_composition_of_resources'].median())\n",
    "to_replace = df[(df['income_composition_of_resources'].isna())].year.map(inccomp_median).index\n",
    "values = df[(df['income_composition_of_resources'].isna())].year.map(inccomp_median)\n",
    "df.loc[to_replace, 'income_composition_of_resources'] = values"
   ]
  },
  {
   "cell_type": "code",
   "execution_count": 1043,
   "metadata": {},
   "outputs": [],
   "source": [
    "scholing_median = dict(df[df.status == 'Developing'].groupby('year')['schooling'].median())\n",
    "to_replace = df[(df['schooling'].isna())].year.map(scholing_median).index\n",
    "values = df[(df['schooling'].isna())].year.map(scholing_median)\n",
    "df.loc[to_replace, 'schooling'] = values"
   ]
  },
  {
   "cell_type": "code",
   "execution_count": 1044,
   "metadata": {
    "scrolled": true
   },
   "outputs": [
    {
     "data": {
      "text/plain": [
       "(0, 0)"
      ]
     },
     "execution_count": 1044,
     "metadata": {},
     "output_type": "execute_result"
    }
   ],
   "source": [
    "df.income_composition_of_resources.isnull().sum(), df.schooling.isnull().sum()"
   ]
  },
  {
   "cell_type": "code",
   "execution_count": 1046,
   "metadata": {},
   "outputs": [],
   "source": [
    "# export df\n",
    "df.to_csv('cleaned_nulls.csv')"
   ]
  },
  {
   "cell_type": "markdown",
   "metadata": {},
   "source": [
    "# EDA #"
   ]
  },
  {
   "cell_type": "code",
   "execution_count": 141,
   "metadata": {},
   "outputs": [
    {
     "data": {
      "text/plain": [
       "status\n",
       "Developed     79.197852\n",
       "Developing    67.111465\n",
       "Name: life_expectancy, dtype: float64"
      ]
     },
     "execution_count": 141,
     "metadata": {},
     "output_type": "execute_result"
    }
   ],
   "source": [
    "x = df.groupby('status').mean()['life_expectancy']\n",
    "x"
   ]
  },
  {
   "cell_type": "code",
   "execution_count": 144,
   "metadata": {},
   "outputs": [
    {
     "data": {
      "text/plain": [
       "<matplotlib.legend.Legend at 0x128c4c7f0>"
      ]
     },
     "execution_count": 144,
     "metadata": {},
     "output_type": "execute_result"
    },
    {
     "data": {
      "image/png": "[encoded data removed]",
      "text/plain": [
       "<Figure size 432x288 with 1 Axes>"
      ]
     },
     "metadata": {
      "needs_background": "light"
     },
     "output_type": "display_data"
    }
   ],
   "source": [
    "sns.distplot(df[df.status == 'Developed']['life_expectancy'])\n",
    "sns.distplot(df[df.status == 'Developing']['life_expectancy'])\n",
    "plt.legend(['Developed', 'Developing'])"
   ]
  },
  {
   "cell_type": "code",
   "execution_count": 145,
   "metadata": {},
   "outputs": [],
   "source": [
    "developed = df[df.status == 'Developed']['life_expectancy']\n",
    "developing = df[df.status == 'Developing']['life_expectancy']"
   ]
  },
  {
   "cell_type": "code",
   "execution_count": 146,
   "metadata": {},
   "outputs": [
    {
     "data": {
      "text/plain": [
       "512"
      ]
     },
     "execution_count": 146,
     "metadata": {},
     "output_type": "execute_result"
    }
   ],
   "source": [
    "len(developed)"
   ]
  },
  {
   "cell_type": "code",
   "execution_count": 147,
   "metadata": {},
   "outputs": [
    {
     "data": {
      "text/plain": [
       "Ttest_indResult(statistic=25.380449653665224, pvalue=1.2934822076813624e-110)"
      ]
     },
     "execution_count": 147,
     "metadata": {},
     "output_type": "execute_result"
    }
   ],
   "source": [
    "stats.ttest_ind(developed, developing[:513])"
   ]
  },
  {
   "cell_type": "code",
   "execution_count": null,
   "metadata": {},
   "outputs": [],
   "source": []
  }
 ],
 "metadata": {
  "kernelspec": {
   "display_name": "Python 3",
   "language": "python",
   "name": "python3"
  },
  "language_info": {
   "codemirror_mode": {
    "name": "ipython",
    "version": 3
   },
   "file_extension": ".py",
   "mimetype": "text/x-python",
   "name": "python",
   "nbconvert_exporter": "python",
   "pygments_lexer": "ipython3",
   "version": "3.8.3"
  }
 },
 "nbformat": 4,
 "nbformat_minor": 4
}
